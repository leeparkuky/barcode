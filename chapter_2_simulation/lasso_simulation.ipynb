{
 "cells": [
  {
   "cell_type": "code",
   "execution_count": 1,
   "metadata": {},
   "outputs": [],
   "source": [
    "import sys\n",
    "import os\n",
    "import pandas as pd\n",
    "import numpy as np\n",
    "from sklearn.tree import DecisionTreeRegressor\n",
    "from sklearn.tree import plot_tree\n",
    "import matplotlib.pyplot as plt\n",
    "from sklearn.inspection import permutation_importance\n",
    "import matplotlib.pyplot as plt\n",
    "\n",
    "def gen_X(num_var: int, sample_size : int):\n",
    "    data_dictionary = {}\n",
    "    for i in range(num_var):\n",
    "        var_name = \"x\" + f\"{i + 1}\"\n",
    "        data_dictionary[var_name] = list(np.random.binomial(1, .5, sample_size))\n",
    "    return pd.DataFrame(data_dictionary)\n"
   ]
  },
  {
   "cell_type": "code",
   "execution_count": 2,
   "metadata": {},
   "outputs": [],
   "source": [
    "sys.path.append('/root/barcode/')\n",
    "from BarcodeScanner import base_barcode"
   ]
  },
  {
   "cell_type": "code",
   "execution_count": 118,
   "metadata": {},
   "outputs": [],
   "source": [
    "X = gen_X(3, 2000)"
   ]
  },
  {
   "cell_type": "code",
   "execution_count": 119,
   "metadata": {},
   "outputs": [],
   "source": [
    "y = X.apply(lambda seq: 1+ seq.x1 + seq.x2 + seq.x2*seq.x3 + np.random.normal(scale = 1.4), axis = 1)"
   ]
  },
  {
   "cell_type": "code",
   "execution_count": 120,
   "metadata": {},
   "outputs": [],
   "source": [
    "barcode = base_barcode(X, y)"
   ]
  },
  {
   "cell_type": "code",
   "execution_count": 121,
   "metadata": {},
   "outputs": [],
   "source": [
    "import torch\n",
    "from torch import nn"
   ]
  },
  {
   "cell_type": "code",
   "execution_count": 215,
   "metadata": {},
   "outputs": [],
   "source": [
    "class Lasso_Barcode(nn.Module):\n",
    "    def __init__(self, L_inv, num_variable):\n",
    "        super().__init__()\n",
    "        barcode_size = 2**num_variable\n",
    "        L_inv = torch.from_numpy(L_inv.astype(float))\n",
    "        self.embedding = nn.Embedding(barcode_size, barcode_size)\n",
    "        self.embedding.weight = nn.Parameter(L_inv.to(torch.float32), requires_grad = False)\n",
    "        self.linear = nn.Linear(barcode_size, 1, bias = False, dtype = torch.float32)\n",
    "\n",
    "    def l1_reg(self):\n",
    "        return torch.abs(self.linear.weight).sum()\n",
    "\n",
    "    def forward(self, x):\n",
    "        x = self.embedding(x)\n",
    "        x = self.linear(x)\n",
    "        return x, self.l1_reg()"
   ]
  },
  {
   "cell_type": "code",
   "execution_count": 216,
   "metadata": {},
   "outputs": [],
   "source": [
    "input_tensor = torch.from_numpy(base_barcode.gen_barcode(X).reshape(-1))\n",
    "input_tensor = input_tensor.to(torch.int32)"
   ]
  },
  {
   "cell_type": "code",
   "execution_count": 217,
   "metadata": {},
   "outputs": [],
   "source": [
    "lasso = Lasso_Barcode(barcode.L, 3)"
   ]
  },
  {
   "cell_type": "code",
   "execution_count": 218,
   "metadata": {},
   "outputs": [
    {
     "data": {
      "text/plain": [
       "Parameter containing:\n",
       "tensor([[-0.1291, -0.2770,  0.2925,  0.0964,  0.0875, -0.1415, -0.2600, -0.0501]],\n",
       "       requires_grad=True)"
      ]
     },
     "execution_count": 218,
     "metadata": {},
     "output_type": "execute_result"
    }
   ],
   "source": [
    "lasso.linear.weight"
   ]
  },
  {
   "cell_type": "code",
   "execution_count": 512,
   "metadata": {},
   "outputs": [],
   "source": [
    "import torch.optim as optim\n",
    "\n",
    "criterion = nn.MSELoss()\n",
    "optimizer = optim.Adam(lasso.parameters(), lr=0.01)\n"
   ]
  },
  {
   "cell_type": "code",
   "execution_count": 572,
   "metadata": {},
   "outputs": [],
   "source": [
    "# input_tensor = torch.from_numpy(barcode.gen_barcode(X).reshape(-1))\n",
    "# input_tensor = input_tensor.to(torch.int32)\n",
    "\n",
    "alpha = 0.6\n"
   ]
  },
  {
   "cell_type": "code",
   "execution_count": 573,
   "metadata": {},
   "outputs": [],
   "source": [
    "output_feature = torch.from_numpy(y.to_numpy().reshape(-1,1))\n",
    "output_feature = output_feature.to(torch.float32)"
   ]
  },
  {
   "cell_type": "code",
   "execution_count": 580,
   "metadata": {},
   "outputs": [],
   "source": [
    "num_epochs = 1000\n",
    "for epoch in range(num_epochs):\n",
    "    # Forward pass\n",
    "    optimizer.zero_grad()\n",
    "\n",
    "    outputs, l1_reg = lasso(input_tensor)\n",
    "    # loss = criterion(outputs, output_feature)\n",
    "\n",
    "    loss = criterion(outputs, output_feature) + alpha * l1_reg  # Total loss with L1 regularization\n",
    "    loss.backward()\n",
    "    optimizer.step()\n",
    "    # lasso.linear.weight = nn.Parameter((lasso.linear.weight[0] * lasso.linear.weight[0].abs().gt(0.01).to(torch.uint8)).reshape(1, -1))\n",
    "    # optimizer = optim.SGD(lasso.parameters(), lr=0.001)\n"
   ]
  },
  {
   "cell_type": "code",
   "execution_count": 581,
   "metadata": {},
   "outputs": [
    {
     "data": {
      "text/plain": [
       "tensor(2.6277, grad_fn=<SumBackward0>)"
      ]
     },
     "execution_count": 581,
     "metadata": {},
     "output_type": "execute_result"
    }
   ],
   "source": [
    "lasso.linear.weight[0].abs().sum()"
   ]
  },
  {
   "cell_type": "code",
   "execution_count": 523,
   "metadata": {},
   "outputs": [
    {
     "data": {
      "text/plain": [
       "tensor(3.7366, grad_fn=<SumBackward0>)"
      ]
     },
     "execution_count": 523,
     "metadata": {},
     "output_type": "execute_result"
    }
   ],
   "source": [
    "lasso.linear.weight[0].abs().sum()"
   ]
  },
  {
   "cell_type": "code",
   "execution_count": 582,
   "metadata": {},
   "outputs": [
    {
     "data": {
      "text/plain": [
       "tensor(5)"
      ]
     },
     "execution_count": 582,
     "metadata": {},
     "output_type": "execute_result"
    }
   ],
   "source": [
    "lasso.linear.weight[0].abs().lt(0.01).sum()"
   ]
  },
  {
   "cell_type": "code",
   "execution_count": 583,
   "metadata": {},
   "outputs": [
    {
     "data": {
      "text/plain": [
       "tensor([ 1.3022e+00,  4.0022e-01,  9.0928e-01,  5.5994e-03, -1.3209e-04,\n",
       "        -1.5695e-03,  5.4659e-03,  3.2725e-03], grad_fn=<SelectBackward0>)"
      ]
     },
     "execution_count": 583,
     "metadata": {},
     "output_type": "execute_result"
    }
   ],
   "source": [
    "lasso.linear.weight[0]"
   ]
  },
  {
   "cell_type": "code",
   "execution_count": null,
   "metadata": {},
   "outputs": [],
   "source": []
  }
 ],
 "metadata": {
  "kernelspec": {
   "display_name": ".venv",
   "language": "python",
   "name": "python3"
  },
  "language_info": {
   "codemirror_mode": {
    "name": "ipython",
    "version": 3
   },
   "file_extension": ".py",
   "mimetype": "text/x-python",
   "name": "python",
   "nbconvert_exporter": "python",
   "pygments_lexer": "ipython3",
   "version": "3.10.6"
  }
 },
 "nbformat": 4,
 "nbformat_minor": 2
}
