{
 "cells": [
  {
   "cell_type": "code",
   "execution_count": 2,
   "metadata": {},
   "outputs": [],
   "source": [
    "import sys\n",
    "import os\n",
    "import pandas as pd\n",
    "import numpy as np\n",
    "from sklearn.tree import DecisionTreeRegressor\n",
    "from sklearn.tree import plot_tree\n",
    "import matplotlib.pyplot as plt\n",
    "from sklearn.inspection import permutation_importance\n",
    "import matplotlib.pyplot as plt\n",
    "\n",
    "def gen_X(num_var: int, sample_size : int):\n",
    "    data_dictionary = {}\n",
    "    for i in range(num_var):\n",
    "        var_name = \"x\" + f\"{i + 1}\"\n",
    "        data_dictionary[var_name] = list(np.random.binomial(1, .5, sample_size))\n",
    "    return pd.DataFrame(data_dictionary)\n"
   ]
  },
  {
   "cell_type": "code",
   "execution_count": 3,
   "metadata": {},
   "outputs": [],
   "source": [
    "sys.path.append('/root/barcode/')\n",
    "from BarcodeScanner import tree_and_clustering, base_barcode"
   ]
  },
  {
   "cell_type": "code",
   "execution_count": 4,
   "metadata": {},
   "outputs": [],
   "source": [
    "X = gen_X(3, 500)"
   ]
  },
  {
   "cell_type": "code",
   "execution_count": 7,
   "metadata": {},
   "outputs": [],
   "source": [
    "y = X.apply(lambda seq: 1+ seq.x1 + seq.x2 + np.random.normal(), axis = 1)"
   ]
  },
  {
   "cell_type": "code",
   "execution_count": 9,
   "metadata": {},
   "outputs": [],
   "source": [
    "barcode  = base_barcode(X, y)"
   ]
  },
  {
   "cell_type": "code",
   "execution_count": 11,
   "metadata": {},
   "outputs": [
    {
     "data": {
      "text/plain": [
       "array([[ 1,  0,  0,  0,  0,  0,  0,  0],\n",
       "       [-1,  0,  0,  0,  1,  0,  0,  0],\n",
       "       [-1,  0,  1,  0,  0,  0,  0,  0],\n",
       "       [-1,  1,  0,  0,  0,  0,  0,  0],\n",
       "       [ 1,  0, -1,  0, -1,  0,  1,  0],\n",
       "       [ 1, -1,  0,  0, -1,  1,  0,  0],\n",
       "       [ 1, -1, -1,  1,  0,  0,  0,  0],\n",
       "       [-1,  1,  1, -1,  1, -1, -1,  1]], dtype=int8)"
      ]
     },
     "execution_count": 11,
     "metadata": {},
     "output_type": "execute_result"
    }
   ],
   "source": [
    "barcode.L_inv"
   ]
  },
  {
   "cell_type": "code",
   "execution_count": 15,
   "metadata": {},
   "outputs": [],
   "source": [
    "import torch\n",
    "from torch import nn"
   ]
  },
  {
   "cell_type": "code",
   "execution_count": 16,
   "metadata": {},
   "outputs": [],
   "source": [
    "embedding = nn.Embedding(8, 8)"
   ]
  },
  {
   "cell_type": "code",
   "execution_count": 27,
   "metadata": {},
   "outputs": [],
   "source": [
    "embedding.weight = nn.Parameter(torch.from_numpy(barcode.L_inv.T), requires_grad = False)"
   ]
  },
  {
   "cell_type": "code",
   "execution_count": 30,
   "metadata": {},
   "outputs": [
    {
     "data": {
      "text/plain": [
       "array([[ 1,  0,  0,  0,  0,  0,  0,  0],\n",
       "       [-1,  0,  0,  0,  1,  0,  0,  0],\n",
       "       [-1,  0,  1,  0,  0,  0,  0,  0],\n",
       "       [-1,  1,  0,  0,  0,  0,  0,  0],\n",
       "       [ 1,  0, -1,  0, -1,  0,  1,  0],\n",
       "       [ 1, -1,  0,  0, -1,  1,  0,  0],\n",
       "       [ 1, -1, -1,  1,  0,  0,  0,  0],\n",
       "       [-1,  1,  1, -1,  1, -1, -1,  1]], dtype=int8)"
      ]
     },
     "execution_count": 30,
     "metadata": {},
     "output_type": "execute_result"
    }
   ],
   "source": [
    "barcode.L_inv"
   ]
  },
  {
   "cell_type": "code",
   "execution_count": 28,
   "metadata": {},
   "outputs": [
    {
     "data": {
      "text/plain": [
       "Parameter containing:\n",
       "tensor([[ 1, -1, -1, -1,  1,  1,  1, -1],\n",
       "        [ 0,  0,  0,  1,  0, -1, -1,  1],\n",
       "        [ 0,  0,  1,  0, -1,  0, -1,  1],\n",
       "        [ 0,  0,  0,  0,  0,  0,  1, -1],\n",
       "        [ 0,  1,  0,  0, -1, -1,  0,  1],\n",
       "        [ 0,  0,  0,  0,  0,  1,  0, -1],\n",
       "        [ 0,  0,  0,  0,  1,  0,  0, -1],\n",
       "        [ 0,  0,  0,  0,  0,  0,  0,  1]], dtype=torch.int8)"
      ]
     },
     "execution_count": 28,
     "metadata": {},
     "output_type": "execute_result"
    }
   ],
   "source": [
    "embedding.weight"
   ]
  },
  {
   "cell_type": "code",
   "execution_count": 29,
   "metadata": {},
   "outputs": [
    {
     "data": {
      "text/plain": [
       "tensor([[ 0,  0,  0,  1,  0, -1, -1,  1]], dtype=torch.int8)"
      ]
     },
     "execution_count": 29,
     "metadata": {},
     "output_type": "execute_result"
    }
   ],
   "source": [
    "embedding(torch.from_numpy(np.array([1])))"
   ]
  },
  {
   "cell_type": "code",
   "execution_count": 73,
   "metadata": {},
   "outputs": [],
   "source": [
    "class Lasso_Barcode(nn.Module):\n",
    "    def __init__(self, L_inv, num_variable):\n",
    "        super().__init__()\n",
    "        barcode_size = 2**num_variable\n",
    "        L_inv = torch.from_numpy(L_inv.T)\n",
    "        self.embedding = nn.Embedding(barcode_size, barcode_size)\n",
    "        self.embedding.weight = nn.Parameter(L_inv, requires_grad = False)\n",
    "        self.linear = nn.Linear(barcode_size, 1, bias = False)\n",
    "\n",
    "    def l1_reg(self):\n",
    "        with torch.no_grad():\n",
    "            return self.linear.weight.abs().sum()\n",
    "\n",
    "    def forward(self, x):\n",
    "        x = self.embedding(x)\n",
    "        x = self.linear(x.to(torch.float32))\n",
    "        return x, self.l1_reg()"
   ]
  },
  {
   "cell_type": "code",
   "execution_count": 74,
   "metadata": {},
   "outputs": [],
   "source": [
    "input_tensor = torch.from_numpy(barcode.gen_barcode(X)[:10])\n",
    "input_tensor = input_tensor.to(torch.int32)"
   ]
  },
  {
   "cell_type": "code",
   "execution_count": 75,
   "metadata": {},
   "outputs": [],
   "source": [
    "lasso = Lasso_Barcode(barcode.L_inv, 3)"
   ]
  },
  {
   "cell_type": "code",
   "execution_count": 76,
   "metadata": {},
   "outputs": [
    {
     "data": {
      "text/plain": [
       "(tensor([[[-0.1033]],\n",
       " \n",
       "         [[-0.0425]],\n",
       " \n",
       "         [[-0.1992]],\n",
       " \n",
       "         [[-0.1992]],\n",
       " \n",
       "         [[-0.0425]],\n",
       " \n",
       "         [[ 0.1261]],\n",
       " \n",
       "         [[-0.0425]],\n",
       " \n",
       "         [[ 0.1261]],\n",
       " \n",
       "         [[ 0.1756]],\n",
       " \n",
       "         [[ 0.0563]]], grad_fn=<UnsafeViewBackward0>),\n",
       " tensor(0.7227))"
      ]
     },
     "execution_count": 76,
     "metadata": {},
     "output_type": "execute_result"
    }
   ],
   "source": [
    "lasso(input_tensor)"
   ]
  },
  {
   "cell_type": "code",
   "execution_count": 43,
   "metadata": {},
   "outputs": [
    {
     "data": {
      "text/plain": [
       "tensor(1.3666)"
      ]
     },
     "execution_count": 43,
     "metadata": {},
     "output_type": "execute_result"
    }
   ],
   "source": [
    "lasso.penalty()"
   ]
  },
  {
   "cell_type": "code",
   "execution_count": null,
   "metadata": {},
   "outputs": [],
   "source": []
  }
 ],
 "metadata": {
  "kernelspec": {
   "display_name": ".venv",
   "language": "python",
   "name": "python3"
  },
  "language_info": {
   "codemirror_mode": {
    "name": "ipython",
    "version": 3
   },
   "file_extension": ".py",
   "mimetype": "text/x-python",
   "name": "python",
   "nbconvert_exporter": "python",
   "pygments_lexer": "ipython3",
   "version": "3.10.6"
  }
 },
 "nbformat": 4,
 "nbformat_minor": 2
}
