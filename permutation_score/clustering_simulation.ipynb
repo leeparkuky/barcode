{
 "cells": [
  {
   "cell_type": "code",
   "execution_count": 12,
   "metadata": {},
   "outputs": [
    {
     "name": "stdout",
     "output_type": "stream",
     "text": [
      "iteration-0 begins:\n",
      "\n",
      "\n"
     ]
    },
    {
     "name": "stderr",
     "output_type": "stream",
     "text": [
      "100%|██████████| 971711/971711 [39:02<00:00, 414.84it/s]\n",
      "  0%|          | 0/971711 [00:00<?, ?it/s]\n"
     ]
    },
    {
     "name": "stdout",
     "output_type": "stream",
     "text": [
      "iteration-1 begins:\n",
      "\n",
      "\n"
     ]
    },
    {
     "name": "stderr",
     "output_type": "stream",
     "text": [
      "100%|██████████| 971711/971711 [41:08<00:00, 393.59it/s]\n",
      "  0%|          | 0/971711 [00:00<?, ?it/s]\n"
     ]
    },
    {
     "name": "stdout",
     "output_type": "stream",
     "text": [
      "iteration-2 begins:\n",
      "\n",
      "\n"
     ]
    },
    {
     "name": "stderr",
     "output_type": "stream",
     "text": [
      "100%|██████████| 971711/971711 [36:53<00:00, 438.98it/s]\n",
      "  0%|          | 0/971711 [00:00<?, ?it/s]\n"
     ]
    },
    {
     "name": "stdout",
     "output_type": "stream",
     "text": [
      "iteration-3 begins:\n",
      "\n",
      "\n"
     ]
    },
    {
     "name": "stderr",
     "output_type": "stream",
     "text": [
      "100%|██████████| 971711/971711 [37:16<00:00, 434.57it/s]\n",
      "  0%|          | 0/971711 [00:00<?, ?it/s]\n"
     ]
    },
    {
     "name": "stdout",
     "output_type": "stream",
     "text": [
      "iteration-4 begins:\n",
      "\n",
      "\n"
     ]
    },
    {
     "name": "stderr",
     "output_type": "stream",
     "text": [
      "100%|██████████| 971711/971711 [37:41<00:00, 429.69it/s]\n",
      "  0%|          | 0/971711 [00:00<?, ?it/s]\n"
     ]
    },
    {
     "name": "stdout",
     "output_type": "stream",
     "text": [
      "iteration-5 begins:\n",
      "\n",
      "\n"
     ]
    },
    {
     "name": "stderr",
     "output_type": "stream",
     "text": [
      "100%|██████████| 971711/971711 [38:27<00:00, 421.20it/s]\n",
      "  0%|          | 0/971711 [00:00<?, ?it/s]\n"
     ]
    },
    {
     "name": "stdout",
     "output_type": "stream",
     "text": [
      "iteration-6 begins:\n",
      "\n",
      "\n"
     ]
    },
    {
     "name": "stderr",
     "output_type": "stream",
     "text": [
      "100%|██████████| 971711/971711 [37:39<00:00, 430.13it/s]\n",
      "  0%|          | 0/971711 [00:00<?, ?it/s]\n"
     ]
    },
    {
     "name": "stdout",
     "output_type": "stream",
     "text": [
      "iteration-7 begins:\n",
      "\n",
      "\n"
     ]
    },
    {
     "name": "stderr",
     "output_type": "stream",
     "text": [
      "100%|██████████| 971711/971711 [37:05<00:00, 436.69it/s]\n",
      "  0%|          | 0/971711 [00:00<?, ?it/s]\n"
     ]
    },
    {
     "name": "stdout",
     "output_type": "stream",
     "text": [
      "iteration-8 begins:\n",
      "\n",
      "\n"
     ]
    },
    {
     "name": "stderr",
     "output_type": "stream",
     "text": [
      "100%|██████████| 971711/971711 [39:03<00:00, 414.56it/s]\n",
      "  0%|          | 0/971711 [00:00<?, ?it/s]\n"
     ]
    },
    {
     "name": "stdout",
     "output_type": "stream",
     "text": [
      "iteration-9 begins:\n",
      "\n",
      "\n"
     ]
    },
    {
     "name": "stderr",
     "output_type": "stream",
     "text": [
      "100%|██████████| 971711/971711 [40:03<00:00, 404.23it/s]\n",
      "  0%|          | 0/971711 [00:00<?, ?it/s]\n"
     ]
    }
   ],
   "source": [
    "for iteration in range(10):\n",
    "    print(f\"iteration-{iteration} begins:\\n\\n\")\n",
    "    X = gen_X(5, 500)\n",
    "    y = X.apply(gen_y, axis = 1)\n",
    "    y.name = 'y'\n",
    "    df = pd.concat([X, y], axis = 1)\n",
    "    clustering = anova_clustering(df.iloc[:, :-1], df.y)\n",
    "    clustering.gen_importance_score(16, filename = f'clustering_test_result_iter_{iteration}_cluster_16.csv', max_variables = 7)\n"
   ]
  },
  {
   "cell_type": "code",
   "execution_count": 104,
   "metadata": {},
   "outputs": [],
   "source": [
    "clustering = anova_clustering(df.iloc[:, :-1], df.y)"
   ]
  },
  {
   "cell_type": "code",
   "execution_count": 107,
   "metadata": {},
   "outputs": [
    {
     "name": "stderr",
     "output_type": "stream",
     "text": [
      "  0%|          | 0/971711 [00:00<?, ?it/s]"
     ]
    },
    {
     "name": "stderr",
     "output_type": "stream",
     "text": [
      "  3%|▎         | 29234/971711 [01:02<33:34, 467.90it/s]\n"
     ]
    },
    {
     "ename": "KeyboardInterrupt",
     "evalue": "",
     "output_type": "error",
     "traceback": [
      "\u001b[0;31m---------------------------------------------------------------------------\u001b[0m",
      "\u001b[0;31mKeyboardInterrupt\u001b[0m                         Traceback (most recent call last)",
      "\u001b[1;32m/root/barcode/permutation_score/clustering_simulation.ipynb Cell 10\u001b[0m line \u001b[0;36m1\n\u001b[0;32m----> <a href='vscode-notebook-cell://wsl%2Bubuntu-22.04/root/barcode/permutation_score/clustering_simulation.ipynb#X52sdnNjb2RlLXJlbW90ZQ%3D%3D?line=0'>1</a>\u001b[0m clustering\u001b[39m.\u001b[39;49mgen_importance_score(\u001b[39m11\u001b[39;49m, filename \u001b[39m=\u001b[39;49m \u001b[39m'\u001b[39;49m\u001b[39mtesting_function.csv\u001b[39;49m\u001b[39m'\u001b[39;49m, max_variables \u001b[39m=\u001b[39;49m \u001b[39m7\u001b[39;49m)\n",
      "\u001b[1;32m/root/barcode/permutation_score/clustering_simulation.ipynb Cell 10\u001b[0m line \u001b[0;36m3\n\u001b[1;32m    <a href='vscode-notebook-cell://wsl%2Bubuntu-22.04/root/barcode/permutation_score/clustering_simulation.ipynb#X52sdnNjb2RlLXJlbW90ZQ%3D%3D?line=324'>325</a>\u001b[0m \u001b[39melse\u001b[39;00m:\n\u001b[1;32m    <a href='vscode-notebook-cell://wsl%2Bubuntu-22.04/root/barcode/permutation_score/clustering_simulation.ipynb#X52sdnNjb2RlLXJlbW90ZQ%3D%3D?line=325'>326</a>\u001b[0m     total_iter \u001b[39m=\u001b[39m \u001b[39msum\u001b[39m([comb(\u001b[39mself\u001b[39m\u001b[39m.\u001b[39mnum_full_var \u001b[39m-\u001b[39m \u001b[39mself\u001b[39m\u001b[39m.\u001b[39mnum_main_var \u001b[39m-\u001b[39m\u001b[39m1\u001b[39m, x) \u001b[39mfor\u001b[39;00m x \u001b[39min\u001b[39;00m \u001b[39mrange\u001b[39m(\u001b[39m1\u001b[39m,\u001b[39mself\u001b[39m\u001b[39m.\u001b[39mnum_full_var \u001b[39m-\u001b[39m \u001b[39mself\u001b[39m\u001b[39m.\u001b[39mnum_main_var)])\n\u001b[0;32m--> <a href='vscode-notebook-cell://wsl%2Bubuntu-22.04/root/barcode/permutation_score/clustering_simulation.ipynb#X52sdnNjb2RlLXJlbW90ZQ%3D%3D?line=326'>327</a>\u001b[0m \u001b[39mfor\u001b[39;00m contrast \u001b[39min\u001b[39;00m tqdm(contrasts, total \u001b[39m=\u001b[39m total_iter):\n\u001b[1;32m    <a href='vscode-notebook-cell://wsl%2Bubuntu-22.04/root/barcode/permutation_score/clustering_simulation.ipynb#X52sdnNjb2RlLXJlbW90ZQ%3D%3D?line=327'>328</a>\u001b[0m     result \u001b[39m=\u001b[39m \u001b[39mself\u001b[39m\u001b[39m.\u001b[39mpartial_f_test(contrast \u001b[39m=\u001b[39m contrast, \u001b[39m*\u001b[39m\u001b[39m*\u001b[39mkwargs)\n\u001b[1;32m    <a href='vscode-notebook-cell://wsl%2Bubuntu-22.04/root/barcode/permutation_score/clustering_simulation.ipynb#X52sdnNjb2RlLXJlbW90ZQ%3D%3D?line=328'>329</a>\u001b[0m     score \u001b[39m=\u001b[39m result\u001b[39m.\u001b[39mcdf\n",
      "File \u001b[0;32m~/barcode/.venv/lib/python3.10/site-packages/tqdm/std.py:1178\u001b[0m, in \u001b[0;36mtqdm.__iter__\u001b[0;34m(self)\u001b[0m\n\u001b[1;32m   1175\u001b[0m time \u001b[39m=\u001b[39m \u001b[39mself\u001b[39m\u001b[39m.\u001b[39m_time\n\u001b[1;32m   1177\u001b[0m \u001b[39mtry\u001b[39;00m:\n\u001b[0;32m-> 1178\u001b[0m     \u001b[39mfor\u001b[39;00m obj \u001b[39min\u001b[39;00m iterable:\n\u001b[1;32m   1179\u001b[0m         \u001b[39myield\u001b[39;00m obj\n\u001b[1;32m   1180\u001b[0m         \u001b[39m# Update and possibly print the progressbar.\u001b[39;00m\n\u001b[1;32m   1181\u001b[0m         \u001b[39m# Note: does not call self.update(1) for speed optimisation.\u001b[39;00m\n",
      "\u001b[1;32m/root/barcode/permutation_score/clustering_simulation.ipynb Cell 10\u001b[0m line \u001b[0;36m2\n\u001b[1;32m    <a href='vscode-notebook-cell://wsl%2Bubuntu-22.04/root/barcode/permutation_score/clustering_simulation.ipynb#X52sdnNjb2RlLXJlbW90ZQ%3D%3D?line=279'>280</a>\u001b[0m     \u001b[39mfor\u001b[39;00m beta \u001b[39min\u001b[39;00m betas_in_test:\n\u001b[1;32m    <a href='vscode-notebook-cell://wsl%2Bubuntu-22.04/root/barcode/permutation_score/clustering_simulation.ipynb#X52sdnNjb2RlLXJlbW90ZQ%3D%3D?line=280'>281</a>\u001b[0m         \u001b[39mif\u001b[39;00m \u001b[39msum\u001b[39m(beta) \u001b[39mand\u001b[39;00m (\u001b[39msum\u001b[39m(beta) \u001b[39m<\u001b[39m\u001b[39m=\u001b[39m max_variables):\n\u001b[0;32m--> <a href='vscode-notebook-cell://wsl%2Bubuntu-22.04/root/barcode/permutation_score/clustering_simulation.ipynb#X52sdnNjb2RlLXJlbW90ZQ%3D%3D?line=281'>282</a>\u001b[0m             \u001b[39myield\u001b[39;00m get_new_contrasts(beta)\n\u001b[1;32m    <a href='vscode-notebook-cell://wsl%2Bubuntu-22.04/root/barcode/permutation_score/clustering_simulation.ipynb#X52sdnNjb2RlLXJlbW90ZQ%3D%3D?line=282'>283</a>\u001b[0m \u001b[39melse\u001b[39;00m:\n\u001b[1;32m    <a href='vscode-notebook-cell://wsl%2Bubuntu-22.04/root/barcode/permutation_score/clustering_simulation.ipynb#X52sdnNjb2RlLXJlbW90ZQ%3D%3D?line=283'>284</a>\u001b[0m     \u001b[39mfor\u001b[39;00m beta \u001b[39min\u001b[39;00m betas_in_test:\n",
      "\u001b[1;32m/root/barcode/permutation_score/clustering_simulation.ipynb Cell 10\u001b[0m line \u001b[0;36m2\n\u001b[1;32m    <a href='vscode-notebook-cell://wsl%2Bubuntu-22.04/root/barcode/permutation_score/clustering_simulation.ipynb#X52sdnNjb2RlLXJlbW90ZQ%3D%3D?line=274'>275</a>\u001b[0m \u001b[39mfor\u001b[39;00m i, b \u001b[39min\u001b[39;00m \u001b[39menumerate\u001b[39m(beta):\n\u001b[1;32m    <a href='vscode-notebook-cell://wsl%2Bubuntu-22.04/root/barcode/permutation_score/clustering_simulation.ipynb#X52sdnNjb2RlLXJlbW90ZQ%3D%3D?line=275'>276</a>\u001b[0m     \u001b[39mif\u001b[39;00m b:\n\u001b[0;32m--> <a href='vscode-notebook-cell://wsl%2Bubuntu-22.04/root/barcode/permutation_score/clustering_simulation.ipynb#X52sdnNjb2RlLXJlbW90ZQ%3D%3D?line=276'>277</a>\u001b[0m         vstacks\u001b[39m.\u001b[39mappend(all_interaction_betas\u001b[39m.\u001b[39;49mgetrow(i))\n\u001b[1;32m    <a href='vscode-notebook-cell://wsl%2Bubuntu-22.04/root/barcode/permutation_score/clustering_simulation.ipynb#X52sdnNjb2RlLXJlbW90ZQ%3D%3D?line=277'>278</a>\u001b[0m \u001b[39mreturn\u001b[39;00m vstack(vstacks)\u001b[39m.\u001b[39mastype(np\u001b[39m.\u001b[39muint8)\n",
      "File \u001b[0;32m~/barcode/.venv/lib/python3.10/site-packages/scipy/sparse/_base.py:892\u001b[0m, in \u001b[0;36mspmatrix.getrow\u001b[0;34m(self, i)\u001b[0m\n\u001b[1;32m    890\u001b[0m \u001b[39mif\u001b[39;00m i \u001b[39m<\u001b[39m \u001b[39m0\u001b[39m \u001b[39mor\u001b[39;00m i \u001b[39m>\u001b[39m\u001b[39m=\u001b[39m m:\n\u001b[1;32m    891\u001b[0m     \u001b[39mraise\u001b[39;00m \u001b[39mIndexError\u001b[39;00m(\u001b[39m\"\u001b[39m\u001b[39mindex out of bounds\u001b[39m\u001b[39m\"\u001b[39m)\n\u001b[0;32m--> 892\u001b[0m row_selector \u001b[39m=\u001b[39m \u001b[39mself\u001b[39;49m\u001b[39m.\u001b[39;49m_csr_container(([\u001b[39m1\u001b[39;49m], [[\u001b[39m0\u001b[39;49m], [i]]),\n\u001b[1;32m    893\u001b[0m                                    shape\u001b[39m=\u001b[39;49m(\u001b[39m1\u001b[39;49m, m), dtype\u001b[39m=\u001b[39;49m\u001b[39mself\u001b[39;49m\u001b[39m.\u001b[39;49mdtype)\n\u001b[1;32m    894\u001b[0m \u001b[39mreturn\u001b[39;00m row_selector \u001b[39m@\u001b[39m \u001b[39mself\u001b[39m\n",
      "File \u001b[0;32m~/barcode/.venv/lib/python3.10/site-packages/scipy/sparse/_compressed.py:106\u001b[0m, in \u001b[0;36m_cs_matrix.__init__\u001b[0;34m(self, arg1, shape, dtype, copy)\u001b[0m\n\u001b[1;32m    103\u001b[0m \u001b[39mif\u001b[39;00m dtype \u001b[39mis\u001b[39;00m \u001b[39mnot\u001b[39;00m \u001b[39mNone\u001b[39;00m:\n\u001b[1;32m    104\u001b[0m     \u001b[39mself\u001b[39m\u001b[39m.\u001b[39mdata \u001b[39m=\u001b[39m \u001b[39mself\u001b[39m\u001b[39m.\u001b[39mdata\u001b[39m.\u001b[39mastype(dtype, copy\u001b[39m=\u001b[39m\u001b[39mFalse\u001b[39;00m)\n\u001b[0;32m--> 106\u001b[0m \u001b[39mself\u001b[39;49m\u001b[39m.\u001b[39;49mcheck_format(full_check\u001b[39m=\u001b[39;49m\u001b[39mFalse\u001b[39;49;00m)\n",
      "File \u001b[0;32m~/barcode/.venv/lib/python3.10/site-packages/scipy/sparse/_compressed.py:171\u001b[0m, in \u001b[0;36m_cs_matrix.check_format\u001b[0;34m(self, full_check)\u001b[0m\n\u001b[1;32m    168\u001b[0m \u001b[39mif\u001b[39;00m (\u001b[39mlen\u001b[39m(\u001b[39mself\u001b[39m\u001b[39m.\u001b[39mindptr) \u001b[39m!=\u001b[39m major_dim \u001b[39m+\u001b[39m \u001b[39m1\u001b[39m):\n\u001b[1;32m    169\u001b[0m     \u001b[39mraise\u001b[39;00m \u001b[39mValueError\u001b[39;00m(\u001b[39m\"\u001b[39m\u001b[39mindex pointer size (\u001b[39m\u001b[39m{}\u001b[39;00m\u001b[39m) should be (\u001b[39m\u001b[39m{}\u001b[39;00m\u001b[39m)\u001b[39m\u001b[39m\"\u001b[39m\n\u001b[1;32m    170\u001b[0m                      \u001b[39m\"\u001b[39m\u001b[39m\"\u001b[39m\u001b[39m.\u001b[39mformat(\u001b[39mlen\u001b[39m(\u001b[39mself\u001b[39m\u001b[39m.\u001b[39mindptr), major_dim \u001b[39m+\u001b[39m \u001b[39m1\u001b[39m))\n\u001b[0;32m--> 171\u001b[0m \u001b[39mif\u001b[39;00m (\u001b[39mself\u001b[39m\u001b[39m.\u001b[39mindptr[\u001b[39m0\u001b[39m] \u001b[39m!=\u001b[39m \u001b[39m0\u001b[39m):\n\u001b[1;32m    172\u001b[0m     \u001b[39mraise\u001b[39;00m \u001b[39mValueError\u001b[39;00m(\u001b[39m\"\u001b[39m\u001b[39mindex pointer should start with 0\u001b[39m\u001b[39m\"\u001b[39m)\n\u001b[1;32m    174\u001b[0m \u001b[39m# check index and data arrays\u001b[39;00m\n",
      "\u001b[0;31mKeyboardInterrupt\u001b[0m: "
     ]
    }
   ],
   "source": [
    "clustering.gen_importance_score(11, filename = 'testing_function.csv', max_variables = 7)"
   ]
  },
  {
   "cell_type": "code",
   "execution_count": null,
   "metadata": {},
   "outputs": [],
   "source": []
  },
  {
   "cell_type": "code",
   "execution_count": 79,
   "metadata": {},
   "outputs": [],
   "source": [
    "first_output = clustering.summary_table.copy()\n",
    "first_output = first_output.drop('mse', axis = 1)\n",
    "first_output['z'] = range(2**5)\n",
    "first_output = first_output[['x1','x2','x3','x4','x5','z','group_means','count']]\n",
    "first_output = first_output.rename(columns = {'x1': '$x_1$', 'x2': '$x_2$','x3': '$x_3$', 'x4': '$x_4$','x5': '$x_5$',\n",
    "                                              'group_means': '$\\hat{y}$',\n",
    "                                              'count': '$n_z$',\n",
    "                                              'z':'$z$'})"
   ]
  },
  {
   "cell_type": "code",
   "execution_count": 80,
   "metadata": {},
   "outputs": [
    {
     "data": {
      "text/html": [
       "<div>\n",
       "<style scoped>\n",
       "    .dataframe tbody tr th:only-of-type {\n",
       "        vertical-align: middle;\n",
       "    }\n",
       "\n",
       "    .dataframe tbody tr th {\n",
       "        vertical-align: top;\n",
       "    }\n",
       "\n",
       "    .dataframe thead th {\n",
       "        text-align: right;\n",
       "    }\n",
       "</style>\n",
       "<table border=\"1\" class=\"dataframe\">\n",
       "  <thead>\n",
       "    <tr style=\"text-align: right;\">\n",
       "      <th></th>\n",
       "      <th>$x_1$</th>\n",
       "      <th>$x_2$</th>\n",
       "      <th>$x_3$</th>\n",
       "      <th>$x_4$</th>\n",
       "      <th>$x_5$</th>\n",
       "      <th>$z$</th>\n",
       "      <th>$\\hat{y}$</th>\n",
       "      <th>$n_z$</th>\n",
       "    </tr>\n",
       "  </thead>\n",
       "  <tbody>\n",
       "    <tr>\n",
       "      <th>0</th>\n",
       "      <td>0</td>\n",
       "      <td>0</td>\n",
       "      <td>0</td>\n",
       "      <td>0</td>\n",
       "      <td>0</td>\n",
       "      <td>0</td>\n",
       "      <td>0.707991</td>\n",
       "      <td>20</td>\n",
       "    </tr>\n",
       "    <tr>\n",
       "      <th>1</th>\n",
       "      <td>0</td>\n",
       "      <td>0</td>\n",
       "      <td>0</td>\n",
       "      <td>0</td>\n",
       "      <td>1</td>\n",
       "      <td>1</td>\n",
       "      <td>1.891421</td>\n",
       "      <td>18</td>\n",
       "    </tr>\n",
       "    <tr>\n",
       "      <th>2</th>\n",
       "      <td>0</td>\n",
       "      <td>0</td>\n",
       "      <td>0</td>\n",
       "      <td>1</td>\n",
       "      <td>0</td>\n",
       "      <td>2</td>\n",
       "      <td>2.610576</td>\n",
       "      <td>12</td>\n",
       "    </tr>\n",
       "    <tr>\n",
       "      <th>3</th>\n",
       "      <td>0</td>\n",
       "      <td>0</td>\n",
       "      <td>0</td>\n",
       "      <td>1</td>\n",
       "      <td>1</td>\n",
       "      <td>3</td>\n",
       "      <td>4.703857</td>\n",
       "      <td>16</td>\n",
       "    </tr>\n",
       "    <tr>\n",
       "      <th>4</th>\n",
       "      <td>0</td>\n",
       "      <td>0</td>\n",
       "      <td>1</td>\n",
       "      <td>0</td>\n",
       "      <td>0</td>\n",
       "      <td>4</td>\n",
       "      <td>2.243036</td>\n",
       "      <td>12</td>\n",
       "    </tr>\n",
       "  </tbody>\n",
       "</table>\n",
       "</div>"
      ],
      "text/plain": [
       "   $x_1$  $x_2$  $x_3$  $x_4$  $x_5$  $z$  $\\hat{y}$  $n_z$\n",
       "0      0      0      0      0      0    0   0.707991     20\n",
       "1      0      0      0      0      1    1   1.891421     18\n",
       "2      0      0      0      1      0    2   2.610576     12\n",
       "3      0      0      0      1      1    3   4.703857     16\n",
       "4      0      0      1      0      0    4   2.243036     12"
      ]
     },
     "execution_count": 80,
     "metadata": {},
     "output_type": "execute_result"
    }
   ],
   "source": [
    "first_output.head()"
   ]
  },
  {
   "cell_type": "code",
   "execution_count": 81,
   "metadata": {},
   "outputs": [],
   "source": [
    "tau_estimates = []\n",
    "tau_estimates_lb = []\n",
    "num_clusters = list(range(2, 2**5))\n",
    "for k in num_clusters:\n",
    "    tau_est = tau(df.shape[0], 2**5, k, clustering.estimator.score, clustering.metric_after_clustering(num_clusters = k))\n",
    "    tau_estimates.append(tau_est.tau_est)\n",
    "    tau_estimates_lb.append(tau_est.tau_LB)"
   ]
  },
  {
   "cell_type": "code",
   "execution_count": 82,
   "metadata": {},
   "outputs": [],
   "source": [
    "tau_output = pd.DataFrame(zip(num_clusters, tau_estimates, tau_estimates_lb), columns = ['num_clusters','tau_estimates','tau_estimate_lower_bound'])"
   ]
  },
  {
   "cell_type": "code",
   "execution_count": 83,
   "metadata": {},
   "outputs": [
    {
     "data": {
      "image/png": "[encoded data removed]",
      "text/plain": [
       "<Figure size 1000x500 with 1 Axes>"
      ]
     },
     "metadata": {},
     "output_type": "display_data"
    }
   ],
   "source": [
    "import seaborn as sns\n",
    "fig, ax = plt.subplots(1, 1, figsize = (8.5, 6.5))\n",
    "sns.lineplot(data = tau_output, x = 'num_clusters', y = 'tau_estimates')\n",
    "ax.vlines(x = 11, ymin =-.02, ymax = 2, color = 'red', linestyles='--')\n",
    "ax.vlines(x = 16, ymin =-.02, ymax = 2, color = 'red', linestyles='--')\n",
    "ax.set_xlabel('number of clusters: dimension of the model')\n",
    "ax.set_ylabel('$\\\\hat{\\\\tau}$')\n",
    "plt.show()\n",
    "fig.savefig('cluster_tau.png')"
   ]
  },
  {
   "cell_type": "code",
   "execution_count": 84,
   "metadata": {},
   "outputs": [
    {
     "data": {
      "text/html": [
       "<div>\n",
       "<style scoped>\n",
       "    .dataframe tbody tr th:only-of-type {\n",
       "        vertical-align: middle;\n",
       "    }\n",
       "\n",
       "    .dataframe tbody tr th {\n",
       "        vertical-align: top;\n",
       "    }\n",
       "\n",
       "    .dataframe thead th {\n",
       "        text-align: right;\n",
       "    }\n",
       "</style>\n",
       "<table border=\"1\" class=\"dataframe\">\n",
       "  <thead>\n",
       "    <tr style=\"text-align: right;\">\n",
       "      <th></th>\n",
       "      <th>num_clusters</th>\n",
       "      <th>tau_estimates</th>\n",
       "      <th>tau_estimate_lower_bound</th>\n",
       "    </tr>\n",
       "  </thead>\n",
       "  <tbody>\n",
       "    <tr>\n",
       "      <th>0</th>\n",
       "      <td>2</td>\n",
       "      <td>2.802735e+00</td>\n",
       "      <td>2.208295e+00</td>\n",
       "    </tr>\n",
       "    <tr>\n",
       "      <th>1</th>\n",
       "      <td>3</td>\n",
       "      <td>9.327179e-01</td>\n",
       "      <td>6.597220e-01</td>\n",
       "    </tr>\n",
       "    <tr>\n",
       "      <th>2</th>\n",
       "      <td>4</td>\n",
       "      <td>6.328104e-01</td>\n",
       "      <td>4.174031e-01</td>\n",
       "    </tr>\n",
       "    <tr>\n",
       "      <th>3</th>\n",
       "      <td>5</td>\n",
       "      <td>2.760621e-01</td>\n",
       "      <td>1.363398e-01</td>\n",
       "    </tr>\n",
       "    <tr>\n",
       "      <th>4</th>\n",
       "      <td>6</td>\n",
       "      <td>1.768760e-01</td>\n",
       "      <td>6.361288e-02</td>\n",
       "    </tr>\n",
       "    <tr>\n",
       "      <th>5</th>\n",
       "      <td>7</td>\n",
       "      <td>1.223507e-01</td>\n",
       "      <td>2.660619e-02</td>\n",
       "    </tr>\n",
       "    <tr>\n",
       "      <th>6</th>\n",
       "      <td>8</td>\n",
       "      <td>8.930284e-02</td>\n",
       "      <td>6.398680e-03</td>\n",
       "    </tr>\n",
       "    <tr>\n",
       "      <th>7</th>\n",
       "      <td>9</td>\n",
       "      <td>5.085708e-02</td>\n",
       "      <td>3.733394e-15</td>\n",
       "    </tr>\n",
       "    <tr>\n",
       "      <th>8</th>\n",
       "      <td>10</td>\n",
       "      <td>4.057688e-02</td>\n",
       "      <td>3.696872e-15</td>\n",
       "    </tr>\n",
       "    <tr>\n",
       "      <th>9</th>\n",
       "      <td>11</td>\n",
       "      <td>2.833698e-02</td>\n",
       "      <td>3.653387e-15</td>\n",
       "    </tr>\n",
       "    <tr>\n",
       "      <th>10</th>\n",
       "      <td>12</td>\n",
       "      <td>2.120843e-02</td>\n",
       "      <td>3.628061e-15</td>\n",
       "    </tr>\n",
       "    <tr>\n",
       "      <th>11</th>\n",
       "      <td>13</td>\n",
       "      <td>1.581825e-02</td>\n",
       "      <td>3.608911e-15</td>\n",
       "    </tr>\n",
       "    <tr>\n",
       "      <th>12</th>\n",
       "      <td>14</td>\n",
       "      <td>1.222052e-02</td>\n",
       "      <td>3.596130e-15</td>\n",
       "    </tr>\n",
       "    <tr>\n",
       "      <th>13</th>\n",
       "      <td>15</td>\n",
       "      <td>1.055142e-02</td>\n",
       "      <td>3.590200e-15</td>\n",
       "    </tr>\n",
       "    <tr>\n",
       "      <th>14</th>\n",
       "      <td>16</td>\n",
       "      <td>8.105647e-03</td>\n",
       "      <td>3.581511e-15</td>\n",
       "    </tr>\n",
       "    <tr>\n",
       "      <th>15</th>\n",
       "      <td>17</td>\n",
       "      <td>6.203592e-03</td>\n",
       "      <td>3.574753e-15</td>\n",
       "    </tr>\n",
       "    <tr>\n",
       "      <th>16</th>\n",
       "      <td>18</td>\n",
       "      <td>4.854103e-03</td>\n",
       "      <td>3.569959e-15</td>\n",
       "    </tr>\n",
       "    <tr>\n",
       "      <th>17</th>\n",
       "      <td>19</td>\n",
       "      <td>3.607788e-03</td>\n",
       "      <td>3.565531e-15</td>\n",
       "    </tr>\n",
       "    <tr>\n",
       "      <th>18</th>\n",
       "      <td>20</td>\n",
       "      <td>2.792343e-03</td>\n",
       "      <td>3.562634e-15</td>\n",
       "    </tr>\n",
       "    <tr>\n",
       "      <th>19</th>\n",
       "      <td>21</td>\n",
       "      <td>2.021747e-03</td>\n",
       "      <td>3.559896e-15</td>\n",
       "    </tr>\n",
       "    <tr>\n",
       "      <th>20</th>\n",
       "      <td>22</td>\n",
       "      <td>1.270398e-03</td>\n",
       "      <td>3.557227e-15</td>\n",
       "    </tr>\n",
       "    <tr>\n",
       "      <th>21</th>\n",
       "      <td>23</td>\n",
       "      <td>7.647439e-04</td>\n",
       "      <td>3.555431e-15</td>\n",
       "    </tr>\n",
       "    <tr>\n",
       "      <th>22</th>\n",
       "      <td>24</td>\n",
       "      <td>5.218268e-04</td>\n",
       "      <td>3.554568e-15</td>\n",
       "    </tr>\n",
       "    <tr>\n",
       "      <th>23</th>\n",
       "      <td>25</td>\n",
       "      <td>3.283113e-04</td>\n",
       "      <td>3.553880e-15</td>\n",
       "    </tr>\n",
       "    <tr>\n",
       "      <th>24</th>\n",
       "      <td>26</td>\n",
       "      <td>1.465501e-04</td>\n",
       "      <td>3.553234e-15</td>\n",
       "    </tr>\n",
       "    <tr>\n",
       "      <th>25</th>\n",
       "      <td>27</td>\n",
       "      <td>6.676541e-05</td>\n",
       "      <td>3.552951e-15</td>\n",
       "    </tr>\n",
       "    <tr>\n",
       "      <th>26</th>\n",
       "      <td>28</td>\n",
       "      <td>2.214711e-05</td>\n",
       "      <td>3.552792e-15</td>\n",
       "    </tr>\n",
       "    <tr>\n",
       "      <th>27</th>\n",
       "      <td>29</td>\n",
       "      <td>5.662462e-06</td>\n",
       "      <td>3.552734e-15</td>\n",
       "    </tr>\n",
       "    <tr>\n",
       "      <th>28</th>\n",
       "      <td>30</td>\n",
       "      <td>1.239379e-06</td>\n",
       "      <td>3.552718e-15</td>\n",
       "    </tr>\n",
       "    <tr>\n",
       "      <th>29</th>\n",
       "      <td>31</td>\n",
       "      <td>2.181528e-07</td>\n",
       "      <td>3.552714e-15</td>\n",
       "    </tr>\n",
       "  </tbody>\n",
       "</table>\n",
       "</div>"
      ],
      "text/plain": [
       "    num_clusters  tau_estimates  tau_estimate_lower_bound\n",
       "0              2   2.802735e+00              2.208295e+00\n",
       "1              3   9.327179e-01              6.597220e-01\n",
       "2              4   6.328104e-01              4.174031e-01\n",
       "3              5   2.760621e-01              1.363398e-01\n",
       "4              6   1.768760e-01              6.361288e-02\n",
       "5              7   1.223507e-01              2.660619e-02\n",
       "6              8   8.930284e-02              6.398680e-03\n",
       "7              9   5.085708e-02              3.733394e-15\n",
       "8             10   4.057688e-02              3.696872e-15\n",
       "9             11   2.833698e-02              3.653387e-15\n",
       "10            12   2.120843e-02              3.628061e-15\n",
       "11            13   1.581825e-02              3.608911e-15\n",
       "12            14   1.222052e-02              3.596130e-15\n",
       "13            15   1.055142e-02              3.590200e-15\n",
       "14            16   8.105647e-03              3.581511e-15\n",
       "15            17   6.203592e-03              3.574753e-15\n",
       "16            18   4.854103e-03              3.569959e-15\n",
       "17            19   3.607788e-03              3.565531e-15\n",
       "18            20   2.792343e-03              3.562634e-15\n",
       "19            21   2.021747e-03              3.559896e-15\n",
       "20            22   1.270398e-03              3.557227e-15\n",
       "21            23   7.647439e-04              3.555431e-15\n",
       "22            24   5.218268e-04              3.554568e-15\n",
       "23            25   3.283113e-04              3.553880e-15\n",
       "24            26   1.465501e-04              3.553234e-15\n",
       "25            27   6.676541e-05              3.552951e-15\n",
       "26            28   2.214711e-05              3.552792e-15\n",
       "27            29   5.662462e-06              3.552734e-15\n",
       "28            30   1.239379e-06              3.552718e-15\n",
       "29            31   2.181528e-07              3.552714e-15"
      ]
     },
     "execution_count": 84,
     "metadata": {},
     "output_type": "execute_result"
    }
   ],
   "source": [
    "tau_output"
   ]
  },
  {
   "cell_type": "code",
   "execution_count": 85,
   "metadata": {},
   "outputs": [
    {
     "data": {
      "text/plain": [
       "array([ 0.708,  1.129,  1.129,  1.707,  1.707,  1.129,  0.226,  0.504,\n",
       "        0.504, -0.552, -0.351,  0.795,  0.226, -0.073, -0.351,  1.16 ,\n",
       "        0.175,  0.087,  0.052,  2.123,  1.407,  0.5  ,  1.108,  0.142,\n",
       "       -0.569,  1.391,  0.517, -1.599,  0.077, -1.997,  1.139,  2.239])"
      ]
     },
     "execution_count": 85,
     "metadata": {},
     "output_type": "execute_result"
    }
   ],
   "source": [
    "clustering.get_projected_beta_hat(16).round(3)"
   ]
  },
  {
   "cell_type": "code",
   "execution_count": 86,
   "metadata": {},
   "outputs": [],
   "source": [
    "output = pd.DataFrame(zip(clustering.beta_names, clustering.get_projected_beta_hat(16).round(3)), columns = ['beta_name','coef_est'])"
   ]
  },
  {
   "cell_type": "code",
   "execution_count": 88,
   "metadata": {},
   "outputs": [
    {
     "data": {
      "text/html": [
       "<div>\n",
       "<style scoped>\n",
       "    .dataframe tbody tr th:only-of-type {\n",
       "        vertical-align: middle;\n",
       "    }\n",
       "\n",
       "    .dataframe tbody tr th {\n",
       "        vertical-align: top;\n",
       "    }\n",
       "\n",
       "    .dataframe thead th {\n",
       "        text-align: right;\n",
       "    }\n",
       "</style>\n",
       "<table border=\"1\" class=\"dataframe\">\n",
       "  <thead>\n",
       "    <tr style=\"text-align: right;\">\n",
       "      <th></th>\n",
       "      <th>beta_name</th>\n",
       "      <th>coef_est</th>\n",
       "    </tr>\n",
       "  </thead>\n",
       "  <tbody>\n",
       "    <tr>\n",
       "      <th>29</th>\n",
       "      <td>beta1*beta3*beta4*beta5</td>\n",
       "      <td>-1.997</td>\n",
       "    </tr>\n",
       "    <tr>\n",
       "      <th>27</th>\n",
       "      <td>beta1*beta2*beta3*beta5</td>\n",
       "      <td>-1.599</td>\n",
       "    </tr>\n",
       "    <tr>\n",
       "      <th>24</th>\n",
       "      <td>beta2*beta4*beta5</td>\n",
       "      <td>-0.569</td>\n",
       "    </tr>\n",
       "    <tr>\n",
       "      <th>9</th>\n",
       "      <td>beta1*beta5</td>\n",
       "      <td>-0.552</td>\n",
       "    </tr>\n",
       "    <tr>\n",
       "      <th>14</th>\n",
       "      <td>beta3*beta5</td>\n",
       "      <td>-0.351</td>\n",
       "    </tr>\n",
       "    <tr>\n",
       "      <th>10</th>\n",
       "      <td>beta2*beta3</td>\n",
       "      <td>-0.351</td>\n",
       "    </tr>\n",
       "    <tr>\n",
       "      <th>13</th>\n",
       "      <td>beta3*beta4</td>\n",
       "      <td>-0.073</td>\n",
       "    </tr>\n",
       "    <tr>\n",
       "      <th>18</th>\n",
       "      <td>beta1*beta2*beta5</td>\n",
       "      <td>0.052</td>\n",
       "    </tr>\n",
       "    <tr>\n",
       "      <th>28</th>\n",
       "      <td>beta1*beta2*beta4*beta5</td>\n",
       "      <td>0.077</td>\n",
       "    </tr>\n",
       "    <tr>\n",
       "      <th>17</th>\n",
       "      <td>beta1*beta2*beta4</td>\n",
       "      <td>0.087</td>\n",
       "    </tr>\n",
       "    <tr>\n",
       "      <th>23</th>\n",
       "      <td>beta2*beta3*beta5</td>\n",
       "      <td>0.142</td>\n",
       "    </tr>\n",
       "    <tr>\n",
       "      <th>16</th>\n",
       "      <td>beta1*beta2*beta3</td>\n",
       "      <td>0.175</td>\n",
       "    </tr>\n",
       "    <tr>\n",
       "      <th>12</th>\n",
       "      <td>beta2*beta5</td>\n",
       "      <td>0.226</td>\n",
       "    </tr>\n",
       "    <tr>\n",
       "      <th>6</th>\n",
       "      <td>beta1*beta2</td>\n",
       "      <td>0.226</td>\n",
       "    </tr>\n",
       "    <tr>\n",
       "      <th>21</th>\n",
       "      <td>beta1*beta4*beta5</td>\n",
       "      <td>0.500</td>\n",
       "    </tr>\n",
       "    <tr>\n",
       "      <th>8</th>\n",
       "      <td>beta1*beta4</td>\n",
       "      <td>0.504</td>\n",
       "    </tr>\n",
       "    <tr>\n",
       "      <th>7</th>\n",
       "      <td>beta1*beta3</td>\n",
       "      <td>0.504</td>\n",
       "    </tr>\n",
       "    <tr>\n",
       "      <th>26</th>\n",
       "      <td>beta1*beta2*beta3*beta4</td>\n",
       "      <td>0.517</td>\n",
       "    </tr>\n",
       "    <tr>\n",
       "      <th>0</th>\n",
       "      <td>beta0</td>\n",
       "      <td>0.708</td>\n",
       "    </tr>\n",
       "    <tr>\n",
       "      <th>11</th>\n",
       "      <td>beta2*beta4</td>\n",
       "      <td>0.795</td>\n",
       "    </tr>\n",
       "    <tr>\n",
       "      <th>22</th>\n",
       "      <td>beta2*beta3*beta4</td>\n",
       "      <td>1.108</td>\n",
       "    </tr>\n",
       "    <tr>\n",
       "      <th>5</th>\n",
       "      <td>beta5</td>\n",
       "      <td>1.129</td>\n",
       "    </tr>\n",
       "    <tr>\n",
       "      <th>2</th>\n",
       "      <td>beta2</td>\n",
       "      <td>1.129</td>\n",
       "    </tr>\n",
       "    <tr>\n",
       "      <th>1</th>\n",
       "      <td>beta1</td>\n",
       "      <td>1.129</td>\n",
       "    </tr>\n",
       "    <tr>\n",
       "      <th>30</th>\n",
       "      <td>beta2*beta3*beta4*beta5</td>\n",
       "      <td>1.139</td>\n",
       "    </tr>\n",
       "    <tr>\n",
       "      <th>15</th>\n",
       "      <td>beta4*beta5</td>\n",
       "      <td>1.160</td>\n",
       "    </tr>\n",
       "    <tr>\n",
       "      <th>25</th>\n",
       "      <td>beta3*beta4*beta5</td>\n",
       "      <td>1.391</td>\n",
       "    </tr>\n",
       "    <tr>\n",
       "      <th>20</th>\n",
       "      <td>beta1*beta3*beta5</td>\n",
       "      <td>1.407</td>\n",
       "    </tr>\n",
       "    <tr>\n",
       "      <th>4</th>\n",
       "      <td>beta4</td>\n",
       "      <td>1.707</td>\n",
       "    </tr>\n",
       "    <tr>\n",
       "      <th>3</th>\n",
       "      <td>beta3</td>\n",
       "      <td>1.707</td>\n",
       "    </tr>\n",
       "    <tr>\n",
       "      <th>19</th>\n",
       "      <td>beta1*beta3*beta4</td>\n",
       "      <td>2.123</td>\n",
       "    </tr>\n",
       "    <tr>\n",
       "      <th>31</th>\n",
       "      <td>beta1*beta2*beta3*beta4*beta5</td>\n",
       "      <td>2.239</td>\n",
       "    </tr>\n",
       "  </tbody>\n",
       "</table>\n",
       "</div>"
      ],
      "text/plain": [
       "                        beta_name  coef_est\n",
       "29        beta1*beta3*beta4*beta5    -1.997\n",
       "27        beta1*beta2*beta3*beta5    -1.599\n",
       "24              beta2*beta4*beta5    -0.569\n",
       "9                     beta1*beta5    -0.552\n",
       "14                    beta3*beta5    -0.351\n",
       "10                    beta2*beta3    -0.351\n",
       "13                    beta3*beta4    -0.073\n",
       "18              beta1*beta2*beta5     0.052\n",
       "28        beta1*beta2*beta4*beta5     0.077\n",
       "17              beta1*beta2*beta4     0.087\n",
       "23              beta2*beta3*beta5     0.142\n",
       "16              beta1*beta2*beta3     0.175\n",
       "12                    beta2*beta5     0.226\n",
       "6                     beta1*beta2     0.226\n",
       "21              beta1*beta4*beta5     0.500\n",
       "8                     beta1*beta4     0.504\n",
       "7                     beta1*beta3     0.504\n",
       "26        beta1*beta2*beta3*beta4     0.517\n",
       "0                           beta0     0.708\n",
       "11                    beta2*beta4     0.795\n",
       "22              beta2*beta3*beta4     1.108\n",
       "5                           beta5     1.129\n",
       "2                           beta2     1.129\n",
       "1                           beta1     1.129\n",
       "30        beta2*beta3*beta4*beta5     1.139\n",
       "15                    beta4*beta5     1.160\n",
       "25              beta3*beta4*beta5     1.391\n",
       "20              beta1*beta3*beta5     1.407\n",
       "4                           beta4     1.707\n",
       "3                           beta3     1.707\n",
       "19              beta1*beta3*beta4     2.123\n",
       "31  beta1*beta2*beta3*beta4*beta5     2.239"
      ]
     },
     "execution_count": 88,
     "metadata": {},
     "output_type": "execute_result"
    }
   ],
   "source": [
    "output.sort_values('coef_est')"
   ]
  },
  {
   "cell_type": "code",
   "execution_count": null,
   "metadata": {},
   "outputs": [],
   "source": []
  }
 ],
 "metadata": {
  "kernelspec": {
   "display_name": ".venv",
   "language": "python",
   "name": "python3"
  },
  "language_info": {
   "codemirror_mode": {
    "name": "ipython",
    "version": 3
   },
   "file_extension": ".py",
   "mimetype": "text/x-python",
   "name": "python",
   "nbconvert_exporter": "python",
   "pygments_lexer": "ipython3",
   "version": "3.10.6"
  },
  "orig_nbformat": 4
 },
 "nbformat": 4,
 "nbformat_minor": 2
}
