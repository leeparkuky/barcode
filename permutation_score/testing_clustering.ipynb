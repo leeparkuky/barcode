{
 "cells": [
  {
   "cell_type": "code",
   "execution_count": 2,
   "metadata": {},
   "outputs": [],
   "source": [
    "import sys\n",
    "import os\n",
    "import pandas as pd\n",
    "import numpy as np\n",
    "from sklearn.tree import DecisionTreeRegressor\n",
    "from sklearn.tree import plot_tree\n",
    "import matplotlib.pyplot as plt\n",
    "from sklearn.inspection import permutation_importance\n",
    "from interaction_permutation_importance import *\n",
    "import matplotlib.pyplot as plt\n",
    "\n",
    "def gen_X(num_var: int, sample_size : int):\n",
    "    data_dictionary = {}\n",
    "    for i in range(num_var):\n",
    "        var_name = \"x\" + f\"{i + 1}\"\n",
    "        data_dictionary[var_name] = list(np.random.binomial(1, .5, sample_size))\n",
    "    return pd.DataFrame(data_dictionary)\n",
    "\n",
    "sys.path.append('/root/barcode/')\n",
    "from BarcodeScanner import tree_and_clustering, base_barcode"
   ]
  },
  {
   "cell_type": "code",
   "execution_count": 2,
   "metadata": {},
   "outputs": [],
   "source": [
    "df = gen_X(3, 600)\n",
    "df['y'] = df.apply(lambda seq: 1 + seq.x1 + seq.x2 + seq.x3 + seq.x3 *seq.x2 + np.random.normal() , axis = 1)"
   ]
  },
  {
   "cell_type": "code",
   "execution_count": 38,
   "metadata": {},
   "outputs": [],
   "source": [
    "clustering = anova_clustering(df.iloc[:, :-1], df.y)"
   ]
  },
  {
   "cell_type": "code",
   "execution_count": 62,
   "metadata": {},
   "outputs": [
    {
     "data": {
      "text/plain": [
       "array([0.954, 1.975, 1.889, 4.117, 1.975, 3.103, 3.018, 5.013])"
      ]
     },
     "execution_count": 62,
     "metadata": {},
     "output_type": "execute_result"
    }
   ],
   "source": [
    "clustering.get_projected_mu_hat(7).round(3)"
   ]
  },
  {
   "cell_type": "code",
   "execution_count": 63,
   "metadata": {},
   "outputs": [
    {
     "data": {
      "text/plain": [
       "array([ 0.954,  1.021,  0.935,  1.021,  0.108,  0.107,  1.207, -0.34 ])"
      ]
     },
     "execution_count": 63,
     "metadata": {},
     "output_type": "execute_result"
    }
   ],
   "source": [
    "clustering.get_projected_beta_hat(7).round(3)"
   ]
  },
  {
   "cell_type": "code",
   "execution_count": 40,
   "metadata": {},
   "outputs": [],
   "source": [
    "first_output = clustering.summary_table.copy()\n",
    "first_output = first_output.drop('mse', axis = 1)\n",
    "first_output['z'] = range(8)\n",
    "first_output = first_output[['x1','x2','x3','z','group_means','count']]\n",
    "first_output = first_output.rename(columns = {'x1': '$x_1$', 'x2': '$x_2$','x3': '$x_3$',\n",
    "                                              'group_means': '$\\hat{y}$',\n",
    "                                              'count': '$n_z$',\n",
    "                                              'z':'$z$'})"
   ]
  },
  {
   "cell_type": "code",
   "execution_count": 41,
   "metadata": {},
   "outputs": [
    {
     "name": "stdout",
     "output_type": "stream",
     "text": [
      "\\begin{tabular}{rrrrrr}\n",
      "\\toprule\n",
      "$x_1$ & $x_2$ & $x_3$ & $z$ & $\\hat{y}$ & $n_z$ \\\\\n",
      "\\midrule\n",
      "0 & 0 & 0 & 0 & 0.95 & 66 \\\\\n",
      "0 & 0 & 1 & 1 & 1.96 & 68 \\\\\n",
      "0 & 1 & 0 & 2 & 1.89 & 86 \\\\\n",
      "0 & 1 & 1 & 3 & 4.12 & 91 \\\\\n",
      "1 & 0 & 0 & 4 & 1.99 & 75 \\\\\n",
      "1 & 0 & 1 & 5 & 3.10 & 64 \\\\\n",
      "1 & 1 & 0 & 6 & 3.02 & 78 \\\\\n",
      "1 & 1 & 1 & 7 & 5.01 & 72 \\\\\n",
      "\\bottomrule\n",
      "\\end{tabular}\n",
      "\n"
     ]
    }
   ],
   "source": [
    "print(first_output.to_latex(index = False, float_format = \"%.2f\"))"
   ]
  },
  {
   "cell_type": "code",
   "execution_count": 42,
   "metadata": {},
   "outputs": [
    {
     "name": "stdout",
     "output_type": "stream",
     "text": [
      "\\begin{tabular}{lrrrrrrrr}\n",
      "\\toprule\n",
      " & 0 & 1 & 2 & 3 & 4 & 5 & 6 & 7 \\\\\n",
      "\\midrule\n",
      "0 & 0.000 & 5.764 & 5.684 & 19.807 & 5.795 & 12.080 & 12.139 & 22.843 \\\\\n",
      "1 & 5.764 & 0.000 & 0.469 & 13.815 & 0.120 & 6.561 & 6.347 & 17.556 \\\\\n",
      "2 & 5.684 & 0.469 & 0.000 & 15.309 & 0.592 & 7.437 & 7.270 & 19.232 \\\\\n",
      "3 & 19.807 & 13.815 & 15.309 & 0.000 & 13.503 & 6.408 & 7.288 & 5.680 \\\\\n",
      "4 & 5.795 & 0.120 & 0.592 & 13.503 & 0.000 & 6.316 & 6.144 & 17.255 \\\\\n",
      "5 & 12.080 & 6.561 & 7.437 & 6.408 & 6.316 & 0.000 & 0.500 & 10.831 \\\\\n",
      "6 & 12.139 & 6.347 & 7.270 & 7.288 & 6.144 & 0.500 & 0.000 & 11.870 \\\\\n",
      "7 & 22.843 & 17.556 & 19.232 & 5.680 & 17.255 & 10.831 & 11.870 & 0.000 \\\\\n",
      "\\bottomrule\n",
      "\\end{tabular}\n",
      "\n"
     ]
    }
   ],
   "source": [
    "print(pd.DataFrame(clustering.init_pdist).to_latex(index = True, columns = None, float_format = \"%.3f\"))"
   ]
  },
  {
   "cell_type": "code",
   "execution_count": 58,
   "metadata": {},
   "outputs": [
    {
     "data": {
      "text/plain": [
       "[[0], [2], [3], [5], [6], [7], [1, 4]]"
      ]
     },
     "execution_count": 58,
     "metadata": {},
     "output_type": "execute_result"
    }
   ],
   "source": [
    "clustering.gen_reduced_clustering(7)[0]"
   ]
  },
  {
   "cell_type": "code",
   "execution_count": 57,
   "metadata": {},
   "outputs": [
    {
     "name": "stdout",
     "output_type": "stream",
     "text": [
      "\\begin{tabular}{lrrrrrrr}\n",
      "\\toprule\n",
      " & 0 & 1 & 2 & 3 & 4 & 5 & 6 \\\\\n",
      "\\midrule\n",
      "0 & 0.000 & 5.684 & 19.807 & 12.080 & 12.139 & 22.843 & 7.666 \\\\\n",
      "1 & 5.684 & 0.000 & 15.309 & 7.437 & 7.270 & 19.232 & 0.668 \\\\\n",
      "2 & 19.807 & 15.309 & 0.000 & 6.408 & 7.288 & 5.680 & 18.172 \\\\\n",
      "3 & 12.080 & 7.437 & 6.408 & 0.000 & 0.500 & 10.831 & 8.545 \\\\\n",
      "4 & 12.139 & 7.270 & 7.288 & 0.500 & 0.000 & 11.870 & 8.287 \\\\\n",
      "5 & 22.843 & 19.232 & 5.680 & 10.831 & 11.870 & 0.000 & 23.168 \\\\\n",
      "6 & 7.666 & 0.668 & 18.172 & 8.545 & 8.287 & 23.168 & 0.000 \\\\\n",
      "\\bottomrule\n",
      "\\end{tabular}\n",
      "\n"
     ]
    }
   ],
   "source": [
    "print(pd.DataFrame(clustering.gen_reduced_clustering(7)[1]).to_latex(index = True, columns = None, float_format = \"%.3f\"))"
   ]
  },
  {
   "cell_type": "code",
   "execution_count": 43,
   "metadata": {},
   "outputs": [
    {
     "data": {
      "text/plain": [
       "{'cluster': {'cluster_0':    x1  x2  x3         y  barcode\n",
       "  0   0   0   0  0.954075        0,\n",
       "  'cluster_1':    x1  x2  x3         y  barcode\n",
       "  0   0   1   1  4.116812        3,\n",
       "  'cluster_2':    x1  x2  x3         y  barcode\n",
       "  0   1   1   1  5.012698        7,\n",
       "  'cluster_3':    x1  x2  x3         y  barcode\n",
       "  0   1   0   1  3.102546        5\n",
       "  1   1   1   0  3.018307        6,\n",
       "  'cluster_4':    x1  x2  x3         y  barcode\n",
       "  0   0   0   1  1.964473        1\n",
       "  1   0   1   0  1.889128        2\n",
       "  2   1   0   0  1.985349        4},\n",
       " 'final_pdist': array([[ 0.        , 19.80718267, 22.84298656, 15.79541061,  8.13656189],\n",
       "        [19.80718267,  0.        ,  5.679639  ,  9.3544232 , 22.10701734],\n",
       "        [22.84298656,  5.679639  ,  0.        , 15.03566248, 26.49475916],\n",
       "        [15.79541061,  9.3544232 , 15.03566248,  0.        , 15.33594725],\n",
       "        [ 8.13656189, 22.10701734, 26.49475916, 15.33594725,  0.        ]])}"
      ]
     },
     "execution_count": 43,
     "metadata": {},
     "output_type": "execute_result"
    }
   ],
   "source": [
    "clustering.cluster(5)"
   ]
  },
  {
   "cell_type": "code",
   "execution_count": 44,
   "metadata": {},
   "outputs": [
    {
     "data": {
      "text/plain": [
       "array([ 0.95407547,  0.99224132,  0.99224132,  0.99224132,  0.12186839,\n",
       "        0.12186839,  1.17825349, -0.34009167])"
      ]
     },
     "execution_count": 44,
     "metadata": {},
     "output_type": "execute_result"
    }
   ],
   "source": [
    "clustering.get_projected_beta_hat(5)"
   ]
  },
  {
   "cell_type": "code",
   "execution_count": 45,
   "metadata": {},
   "outputs": [
    {
     "data": {
      "text/plain": [
       "array([0.01714786, 0.02193938, 0.02193938, 0.02193938, 0.0433912 ,\n",
       "       0.0433912 , 0.04533014, 0.1146444 ])"
      ]
     },
     "execution_count": 45,
     "metadata": {},
     "output_type": "execute_result"
    }
   ],
   "source": [
    "np.diag(clustering.get_projected_beta_hat_var(5))"
   ]
  },
  {
   "cell_type": "code",
   "execution_count": 46,
   "metadata": {},
   "outputs": [
    {
     "data": {
      "text/html": [
       "<div>\n",
       "<style scoped>\n",
       "    .dataframe tbody tr th:only-of-type {\n",
       "        vertical-align: middle;\n",
       "    }\n",
       "\n",
       "    .dataframe tbody tr th {\n",
       "        vertical-align: top;\n",
       "    }\n",
       "\n",
       "    .dataframe thead th {\n",
       "        text-align: right;\n",
       "    }\n",
       "</style>\n",
       "<table border=\"1\" class=\"dataframe\">\n",
       "  <thead>\n",
       "    <tr style=\"text-align: right;\">\n",
       "      <th></th>\n",
       "      <th>x1</th>\n",
       "      <th>x2</th>\n",
       "      <th>x3</th>\n",
       "      <th>group_means</th>\n",
       "      <th>mse</th>\n",
       "      <th>count</th>\n",
       "    </tr>\n",
       "  </thead>\n",
       "  <tbody>\n",
       "    <tr>\n",
       "      <th>0</th>\n",
       "      <td>0</td>\n",
       "      <td>0</td>\n",
       "      <td>0</td>\n",
       "      <td>0.954075</td>\n",
       "      <td>1.131759</td>\n",
       "      <td>66</td>\n",
       "    </tr>\n",
       "    <tr>\n",
       "      <th>1</th>\n",
       "      <td>0</td>\n",
       "      <td>0</td>\n",
       "      <td>1</td>\n",
       "      <td>1.964473</td>\n",
       "      <td>0.988754</td>\n",
       "      <td>68</td>\n",
       "    </tr>\n",
       "    <tr>\n",
       "      <th>2</th>\n",
       "      <td>0</td>\n",
       "      <td>1</td>\n",
       "      <td>0</td>\n",
       "      <td>1.889128</td>\n",
       "      <td>0.935859</td>\n",
       "      <td>86</td>\n",
       "    </tr>\n",
       "    <tr>\n",
       "      <th>3</th>\n",
       "      <td>0</td>\n",
       "      <td>1</td>\n",
       "      <td>1</td>\n",
       "      <td>4.116812</td>\n",
       "      <td>0.820474</td>\n",
       "      <td>91</td>\n",
       "    </tr>\n",
       "    <tr>\n",
       "      <th>4</th>\n",
       "      <td>1</td>\n",
       "      <td>0</td>\n",
       "      <td>0</td>\n",
       "      <td>1.985349</td>\n",
       "      <td>1.327582</td>\n",
       "      <td>75</td>\n",
       "    </tr>\n",
       "    <tr>\n",
       "      <th>5</th>\n",
       "      <td>1</td>\n",
       "      <td>0</td>\n",
       "      <td>1</td>\n",
       "      <td>3.102546</td>\n",
       "      <td>0.978911</td>\n",
       "      <td>64</td>\n",
       "    </tr>\n",
       "    <tr>\n",
       "      <th>6</th>\n",
       "      <td>1</td>\n",
       "      <td>1</td>\n",
       "      <td>0</td>\n",
       "      <td>3.018307</td>\n",
       "      <td>1.015056</td>\n",
       "      <td>78</td>\n",
       "    </tr>\n",
       "    <tr>\n",
       "      <th>7</th>\n",
       "      <td>1</td>\n",
       "      <td>1</td>\n",
       "      <td>1</td>\n",
       "      <td>5.012698</td>\n",
       "      <td>1.227430</td>\n",
       "      <td>72</td>\n",
       "    </tr>\n",
       "  </tbody>\n",
       "</table>\n",
       "</div>"
      ],
      "text/plain": [
       "   x1  x2  x3  group_means       mse  count\n",
       "0   0   0   0     0.954075  1.131759     66\n",
       "1   0   0   1     1.964473  0.988754     68\n",
       "2   0   1   0     1.889128  0.935859     86\n",
       "3   0   1   1     4.116812  0.820474     91\n",
       "4   1   0   0     1.985349  1.327582     75\n",
       "5   1   0   1     3.102546  0.978911     64\n",
       "6   1   1   0     3.018307  1.015056     78\n",
       "7   1   1   1     5.012698  1.227430     72"
      ]
     },
     "execution_count": 46,
     "metadata": {},
     "output_type": "execute_result"
    }
   ],
   "source": [
    "clustering.summary_table"
   ]
  },
  {
   "cell_type": "code",
   "execution_count": 47,
   "metadata": {},
   "outputs": [
    {
     "data": {
      "text/html": [
       "<div>\n",
       "<style scoped>\n",
       "    .dataframe tbody tr th:only-of-type {\n",
       "        vertical-align: middle;\n",
       "    }\n",
       "\n",
       "    .dataframe tbody tr th {\n",
       "        vertical-align: top;\n",
       "    }\n",
       "\n",
       "    .dataframe thead th {\n",
       "        text-align: right;\n",
       "    }\n",
       "</style>\n",
       "<table border=\"1\" class=\"dataframe\">\n",
       "  <thead>\n",
       "    <tr style=\"text-align: right;\">\n",
       "      <th></th>\n",
       "      <th>x1</th>\n",
       "      <th>x2</th>\n",
       "      <th>x3</th>\n",
       "      <th>y</th>\n",
       "      <th>y_pred</th>\n",
       "    </tr>\n",
       "  </thead>\n",
       "  <tbody>\n",
       "    <tr>\n",
       "      <th>0</th>\n",
       "      <td>0</td>\n",
       "      <td>0</td>\n",
       "      <td>0</td>\n",
       "      <td>2.021650</td>\n",
       "      <td>0.954075</td>\n",
       "    </tr>\n",
       "    <tr>\n",
       "      <th>1</th>\n",
       "      <td>0</td>\n",
       "      <td>0</td>\n",
       "      <td>0</td>\n",
       "      <td>0.799469</td>\n",
       "      <td>0.954075</td>\n",
       "    </tr>\n",
       "    <tr>\n",
       "      <th>2</th>\n",
       "      <td>0</td>\n",
       "      <td>0</td>\n",
       "      <td>0</td>\n",
       "      <td>-0.208135</td>\n",
       "      <td>0.954075</td>\n",
       "    </tr>\n",
       "    <tr>\n",
       "      <th>3</th>\n",
       "      <td>0</td>\n",
       "      <td>0</td>\n",
       "      <td>0</td>\n",
       "      <td>0.945272</td>\n",
       "      <td>0.954075</td>\n",
       "    </tr>\n",
       "    <tr>\n",
       "      <th>4</th>\n",
       "      <td>0</td>\n",
       "      <td>0</td>\n",
       "      <td>0</td>\n",
       "      <td>0.241652</td>\n",
       "      <td>0.954075</td>\n",
       "    </tr>\n",
       "    <tr>\n",
       "      <th>...</th>\n",
       "      <td>...</td>\n",
       "      <td>...</td>\n",
       "      <td>...</td>\n",
       "      <td>...</td>\n",
       "      <td>...</td>\n",
       "    </tr>\n",
       "    <tr>\n",
       "      <th>595</th>\n",
       "      <td>1</td>\n",
       "      <td>1</td>\n",
       "      <td>1</td>\n",
       "      <td>3.640606</td>\n",
       "      <td>5.012698</td>\n",
       "    </tr>\n",
       "    <tr>\n",
       "      <th>596</th>\n",
       "      <td>1</td>\n",
       "      <td>1</td>\n",
       "      <td>1</td>\n",
       "      <td>4.282414</td>\n",
       "      <td>5.012698</td>\n",
       "    </tr>\n",
       "    <tr>\n",
       "      <th>597</th>\n",
       "      <td>1</td>\n",
       "      <td>1</td>\n",
       "      <td>1</td>\n",
       "      <td>5.434547</td>\n",
       "      <td>5.012698</td>\n",
       "    </tr>\n",
       "    <tr>\n",
       "      <th>598</th>\n",
       "      <td>1</td>\n",
       "      <td>1</td>\n",
       "      <td>1</td>\n",
       "      <td>3.700211</td>\n",
       "      <td>5.012698</td>\n",
       "    </tr>\n",
       "    <tr>\n",
       "      <th>599</th>\n",
       "      <td>1</td>\n",
       "      <td>1</td>\n",
       "      <td>1</td>\n",
       "      <td>3.985536</td>\n",
       "      <td>5.012698</td>\n",
       "    </tr>\n",
       "  </tbody>\n",
       "</table>\n",
       "<p>600 rows × 5 columns</p>\n",
       "</div>"
      ],
      "text/plain": [
       "     x1  x2  x3         y    y_pred\n",
       "0     0   0   0  2.021650  0.954075\n",
       "1     0   0   0  0.799469  0.954075\n",
       "2     0   0   0 -0.208135  0.954075\n",
       "3     0   0   0  0.945272  0.954075\n",
       "4     0   0   0  0.241652  0.954075\n",
       "..   ..  ..  ..       ...       ...\n",
       "595   1   1   1  3.640606  5.012698\n",
       "596   1   1   1  4.282414  5.012698\n",
       "597   1   1   1  5.434547  5.012698\n",
       "598   1   1   1  3.700211  5.012698\n",
       "599   1   1   1  3.985536  5.012698\n",
       "\n",
       "[600 rows x 5 columns]"
      ]
     },
     "execution_count": 47,
     "metadata": {},
     "output_type": "execute_result"
    }
   ],
   "source": [
    "clustering.gen_clustering_summary_table(num_clusters =  5)"
   ]
  },
  {
   "cell_type": "code",
   "execution_count": 48,
   "metadata": {},
   "outputs": [
    {
     "data": {
      "text/plain": [
       "0.5925768630333379"
      ]
     },
     "execution_count": 48,
     "metadata": {},
     "output_type": "execute_result"
    }
   ],
   "source": [
    "clustering.metric_after_clustering(num_clusters = 5)"
   ]
  },
  {
   "cell_type": "code",
   "execution_count": 49,
   "metadata": {},
   "outputs": [
    {
     "data": {
      "text/plain": [
       "0.5930117806721491"
      ]
     },
     "execution_count": 49,
     "metadata": {},
     "output_type": "execute_result"
    }
   ],
   "source": [
    "clustering.estimator.score"
   ]
  },
  {
   "cell_type": "code",
   "execution_count": 50,
   "metadata": {},
   "outputs": [],
   "source": [
    "from utils import tau"
   ]
  },
  {
   "cell_type": "code",
   "execution_count": 68,
   "metadata": {},
   "outputs": [],
   "source": [
    "tau_est = tau(600, 8, 7, clustering.estimator.score, clustering.metric_after_clustering(num_clusters = 7))"
   ]
  },
  {
   "cell_type": "code",
   "execution_count": 69,
   "metadata": {},
   "outputs": [
    {
     "data": {
      "text/plain": [
       "(0.5930117806721491, 0.5930016648397725)"
      ]
     },
     "execution_count": 69,
     "metadata": {},
     "output_type": "execute_result"
    }
   ],
   "source": [
    "tau_est.r_sqf, tau_est.r_sqr"
   ]
  },
  {
   "cell_type": "code",
   "execution_count": 70,
   "metadata": {},
   "outputs": [
    {
     "data": {
      "text/plain": [
       "2.485534444547637e-05"
      ]
     },
     "execution_count": 70,
     "metadata": {},
     "output_type": "execute_result"
    }
   ],
   "source": [
    "tau_est.tau_est"
   ]
  },
  {
   "cell_type": "code",
   "execution_count": 72,
   "metadata": {},
   "outputs": [],
   "source": [
    "tau_estimates = []\n",
    "tau_estimates_lb = []\n",
    "num_clusters = list(range(2, 8))\n",
    "for k in num_clusters:\n",
    "    tau_est = tau(600, 8, k, clustering.estimator.score, clustering.metric_after_clustering(num_clusters = k))\n",
    "    tau_estimates.append(tau_est.tau_est)\n",
    "    tau_estimates_lb.append(tau_est.tau_LB)"
   ]
  },
  {
   "cell_type": "code",
   "execution_count": 75,
   "metadata": {},
   "outputs": [],
   "source": [
    "tau_output = pd.DataFrame(zip(num_clusters, tau_estimates, tau_estimates_lb), columns = ['num_clusters','tau_estimates','tau_estimate_lower_bound'])"
   ]
  },
  {
   "cell_type": "code",
   "execution_count": 76,
   "metadata": {},
   "outputs": [],
   "source": [
    "import seaborn as sns"
   ]
  },
  {
   "cell_type": "code",
   "execution_count": 97,
   "metadata": {},
   "outputs": [
    {
     "data": {
      "image/png": "[encoded data removed]",
      "text/plain": [
       "<Figure size 1000x500 with 1 Axes>"
      ]
     },
     "metadata": {},
     "output_type": "display_data"
    }
   ],
   "source": [
    "fig, ax = plt.subplots(1, 1, figsize = (10, 5))\n",
    "sns.lineplot(data = tau_output, x = 'num_clusters', y = 'tau_estimates')\n",
    "ax.vlines(x = 5, ymin =-.02, ymax = 0.4, color = 'red', linestyles='--')\n",
    "ax.set_xlabel('number of clusters: dimension of the model')\n",
    "ax.set_ylabel('$\\\\hat{\\\\tau}$')\n",
    "plt.show()\n",
    "fig.savefig('cluster_tau.png')"
   ]
  },
  {
   "cell_type": "code",
   "execution_count": 66,
   "metadata": {},
   "outputs": [
    {
     "data": {
      "text/plain": [
       "1.776400991361352e-15"
      ]
     },
     "execution_count": 66,
     "metadata": {},
     "output_type": "execute_result"
    }
   ],
   "source": [
    "tau_est.tau_LB"
   ]
  },
  {
   "cell_type": "code",
   "execution_count": 103,
   "metadata": {},
   "outputs": [
    {
     "data": {
      "text/plain": [
       "array([ 0.954,  0.992,  0.992,  0.992,  0.122,  0.122,  1.178, -0.34 ])"
      ]
     },
     "execution_count": 103,
     "metadata": {},
     "output_type": "execute_result"
    }
   ],
   "source": [
    "clustering.get_projected_beta_hat(5).round(3)"
   ]
  },
  {
   "cell_type": "code",
   "execution_count": 102,
   "metadata": {},
   "outputs": [
    {
     "data": {
      "text/plain": [
       "array([[ 0.01714786, -0.01714786, -0.01714786, -0.01714786,  0.01714786,\n",
       "         0.01714786,  0.01714786, -0.01714786],\n",
       "       [-0.01714786,  0.02193938,  0.02193938,  0.02193938, -0.0267309 ,\n",
       "        -0.0267309 , -0.0267309 ,  0.03152242],\n",
       "       [-0.01714786,  0.02193938,  0.02193938,  0.02193938, -0.0267309 ,\n",
       "        -0.0267309 , -0.0267309 ,  0.03152242],\n",
       "       [-0.01714786,  0.02193938,  0.02193938,  0.02193938, -0.0267309 ,\n",
       "        -0.0267309 , -0.0267309 ,  0.03152242],\n",
       "       [ 0.01714786, -0.0267309 , -0.0267309 , -0.0267309 ,  0.0433912 ,\n",
       "         0.0433912 ,  0.03631394, -0.06005149],\n",
       "       [ 0.01714786, -0.0267309 , -0.0267309 , -0.0267309 ,  0.0433912 ,\n",
       "         0.0433912 ,  0.03631394, -0.06005149],\n",
       "       [ 0.01714786, -0.0267309 , -0.0267309 , -0.0267309 ,  0.03631394,\n",
       "         0.03631394,  0.04533014, -0.05491318],\n",
       "       [-0.01714786,  0.03152242,  0.03152242,  0.03152242, -0.06005149,\n",
       "        -0.06005149, -0.05491318,  0.1146444 ]])"
      ]
     },
     "execution_count": 102,
     "metadata": {},
     "output_type": "execute_result"
    }
   ],
   "source": [
    "clustering.get_projected_beta_hat_var(5)"
   ]
  },
  {
   "cell_type": "code",
   "execution_count": 106,
   "metadata": {},
   "outputs": [
    {
     "name": "stdout",
     "output_type": "stream",
     "text": [
      "\\begin{tabular}{lrrrrrrrr}\n",
      "\\toprule\n",
      " & 0 & 1 & 2 & 3 & 4 & 5 & 6 & 7 \\\\\n",
      "\\midrule\n",
      "0 & 0.017 & -0.017 & -0.017 & -0.017 & 0.017 & 0.017 & 0.017 & -0.017 \\\\\n",
      "1 & -0.017 & 0.022 & 0.022 & 0.022 & -0.027 & -0.027 & -0.027 & 0.032 \\\\\n",
      "2 & -0.017 & 0.022 & 0.022 & 0.022 & -0.027 & -0.027 & -0.027 & 0.032 \\\\\n",
      "3 & -0.017 & 0.022 & 0.022 & 0.022 & -0.027 & -0.027 & -0.027 & 0.032 \\\\\n",
      "4 & 0.017 & -0.027 & -0.027 & -0.027 & 0.043 & 0.043 & 0.036 & -0.060 \\\\\n",
      "5 & 0.017 & -0.027 & -0.027 & -0.027 & 0.043 & 0.043 & 0.036 & -0.060 \\\\\n",
      "6 & 0.017 & -0.027 & -0.027 & -0.027 & 0.036 & 0.036 & 0.045 & -0.055 \\\\\n",
      "7 & -0.017 & 0.032 & 0.032 & 0.032 & -0.060 & -0.060 & -0.055 & 0.115 \\\\\n",
      "\\bottomrule\n",
      "\\end{tabular}\n",
      "\n"
     ]
    }
   ],
   "source": [
    "print(pd.DataFrame(clustering.get_projected_beta_hat_var(5)).to_latex(index = True, columns = None, float_format = \"%.3f\"))"
   ]
  },
  {
   "cell_type": "code",
   "execution_count": 19,
   "metadata": {},
   "outputs": [
    {
     "data": {
      "text/html": [
       "<div>\n",
       "<style scoped>\n",
       "    .dataframe tbody tr th:only-of-type {\n",
       "        vertical-align: middle;\n",
       "    }\n",
       "\n",
       "    .dataframe tbody tr th {\n",
       "        vertical-align: top;\n",
       "    }\n",
       "\n",
       "    .dataframe thead th {\n",
       "        text-align: right;\n",
       "    }\n",
       "</style>\n",
       "<table border=\"1\" class=\"dataframe\">\n",
       "  <thead>\n",
       "    <tr style=\"text-align: right;\">\n",
       "      <th></th>\n",
       "      <th>x1</th>\n",
       "      <th>x2</th>\n",
       "      <th>x3</th>\n",
       "      <th>group_means</th>\n",
       "      <th>mse</th>\n",
       "      <th>count</th>\n",
       "    </tr>\n",
       "  </thead>\n",
       "  <tbody>\n",
       "    <tr>\n",
       "      <th>0</th>\n",
       "      <td>0</td>\n",
       "      <td>0</td>\n",
       "      <td>0</td>\n",
       "      <td>0.954075</td>\n",
       "      <td>1.131759</td>\n",
       "      <td>66</td>\n",
       "    </tr>\n",
       "    <tr>\n",
       "      <th>1</th>\n",
       "      <td>0</td>\n",
       "      <td>0</td>\n",
       "      <td>1</td>\n",
       "      <td>1.964473</td>\n",
       "      <td>0.988754</td>\n",
       "      <td>68</td>\n",
       "    </tr>\n",
       "    <tr>\n",
       "      <th>2</th>\n",
       "      <td>0</td>\n",
       "      <td>1</td>\n",
       "      <td>0</td>\n",
       "      <td>1.889128</td>\n",
       "      <td>0.935859</td>\n",
       "      <td>86</td>\n",
       "    </tr>\n",
       "    <tr>\n",
       "      <th>3</th>\n",
       "      <td>0</td>\n",
       "      <td>1</td>\n",
       "      <td>1</td>\n",
       "      <td>4.116812</td>\n",
       "      <td>0.820474</td>\n",
       "      <td>91</td>\n",
       "    </tr>\n",
       "    <tr>\n",
       "      <th>4</th>\n",
       "      <td>1</td>\n",
       "      <td>0</td>\n",
       "      <td>0</td>\n",
       "      <td>1.985349</td>\n",
       "      <td>1.327582</td>\n",
       "      <td>75</td>\n",
       "    </tr>\n",
       "    <tr>\n",
       "      <th>5</th>\n",
       "      <td>1</td>\n",
       "      <td>0</td>\n",
       "      <td>1</td>\n",
       "      <td>3.102546</td>\n",
       "      <td>0.978911</td>\n",
       "      <td>64</td>\n",
       "    </tr>\n",
       "    <tr>\n",
       "      <th>6</th>\n",
       "      <td>1</td>\n",
       "      <td>1</td>\n",
       "      <td>0</td>\n",
       "      <td>3.018307</td>\n",
       "      <td>1.015056</td>\n",
       "      <td>78</td>\n",
       "    </tr>\n",
       "    <tr>\n",
       "      <th>7</th>\n",
       "      <td>1</td>\n",
       "      <td>1</td>\n",
       "      <td>1</td>\n",
       "      <td>5.012698</td>\n",
       "      <td>1.227430</td>\n",
       "      <td>72</td>\n",
       "    </tr>\n",
       "  </tbody>\n",
       "</table>\n",
       "</div>"
      ],
      "text/plain": [
       "   x1  x2  x3  group_means       mse  count\n",
       "0   0   0   0     0.954075  1.131759     66\n",
       "1   0   0   1     1.964473  0.988754     68\n",
       "2   0   1   0     1.889128  0.935859     86\n",
       "3   0   1   1     4.116812  0.820474     91\n",
       "4   1   0   0     1.985349  1.327582     75\n",
       "5   1   0   1     3.102546  0.978911     64\n",
       "6   1   1   0     3.018307  1.015056     78\n",
       "7   1   1   1     5.012698  1.227430     72"
      ]
     },
     "execution_count": 19,
     "metadata": {},
     "output_type": "execute_result"
    }
   ],
   "source": [
    "clustering.summary_table"
   ]
  },
  {
   "cell_type": "code",
   "execution_count": 4,
   "metadata": {},
   "outputs": [],
   "source": [
    "class anova_clustering(base_barcode):\n",
    "    def __init__(self, X, y):\n",
    "        super().__init__(X, y)\n",
    "        self.clean_data()\n",
    "        self.estimator = one_way_ANOVA()\n",
    "        self.fit()\n",
    "\n",
    "    def clean_data(self):\n",
    "        full_df = self.X.copy()\n",
    "        full_df['y'] = self.y.reshape(-1)\n",
    "        sorted_index = full_df.sort_values(full_df.columns.tolist()[:-1]).index.tolist()\n",
    "        self.full_df = full_df.loc[sorted_index, :].reset_index(drop = True)\n",
    "        self.barcode_df = pd.DataFrame(zip(self.barcode.reshape(-1), self.y.reshape(-1)), columns = ['z','y']).loc[sorted_index, :].reset_index(drop = True)\n",
    "        self.X = full_df.iloc[:, :-1]\n",
    "        self.y = full_df.y.to_numpy().reshape(-1,1)\n",
    "        del sorted_index\n",
    "        del full_df\n",
    "        \n",
    "    def fit(self):   \n",
    "        self.estimator.fit(self.full_df)\n",
    "        self._summary_table = self.estimator._summary_table\n",
    "        self._fit = True\n",
    "\n",
    "    def gen_clustering_summary_table(self, num_clusters):\n",
    "        original_summary = self.summary_table.copy()\n",
    "        original_summary = original_summary.drop(['group_means','mse', 'count'], axis = 1)\n",
    "        original_summary['y_pred'] = self.get_projected_mu_hat(num_clusters)\n",
    "        full_df = self.full_df.copy()\n",
    "        full_df = full_df.merge(original_summary, on = self.estimator.independet_var_name, how = 'left')\n",
    "        return full_df\n",
    "    \n",
    "    def metric_after_clustering(self, num_clusters, metric = r2_score):\n",
    "        full_df = self.gen_clustering_summary_table(num_clusters)\n",
    "        return metric(full_df.y, full_df.y_pred)\n",
    "\n",
    "\n",
    "\n",
    "    @property\n",
    "    def summary_table(self):\n",
    "        if hasattr(self, \"_summary_table\"):\n",
    "            pass\n",
    "        else:\n",
    "            self._summary_table = self.predict_from_training()\n",
    "        return self._summary_table\n",
    "    \n",
    "    @property\n",
    "    def init_mu_hat(self):\n",
    "        if hasattr(self, \"_init_mu_hat\"):\n",
    "            pass\n",
    "        else:\n",
    "            self._init_mu_hat = self.summary_table.group_means.tolist()\n",
    "            self._init_mu_hat = np.array(self._init_mu_hat).reshape(-1)\n",
    "        return self._init_mu_hat\n",
    "    \n",
    "    @property\n",
    "    def init_mu_var(self):\n",
    "        if hasattr(self, \"_init_mu_var\"):\n",
    "            pass\n",
    "        else:\n",
    "            self._init_mu_var = np.diag(self.summary_table.mse/self.summary_table['count'])\n",
    "        return self._init_mu_var\n",
    "    \n",
    "    @property\n",
    "    def init_beta_hat(self):\n",
    "        if hasattr(self, \"_init_beta_hat\"):\n",
    "            pass\n",
    "        else:\n",
    "            self._init_beta_hat = self.L_inv @ self.init_mu_hat\n",
    "        return self._init_beta_hat\n",
    "\n",
    "    @property\n",
    "    def init_beta_var(self):\n",
    "        if hasattr(self, \"_init_beta_var\"):\n",
    "            pass\n",
    "        else:\n",
    "            self._init_beta_var = self.L_inv @ self.init_mu_var @ self.L_inv.T\n",
    "        return self._init_beta_var\n",
    "\n",
    "    @property\n",
    "    def clustering_init_kwargs(self):\n",
    "        summary = self.summary_table\n",
    "        kwargs = {\"means\": summary.group_means.tolist(), \"variances\": summary.mse.tolist(), \"sample_sizes\": summary['count'].tolist()}\n",
    "        return kwargs\n",
    "    \n",
    "    @property\n",
    "    def init_cluster_idx(self):\n",
    "        if hasattr(self, \"_init_cluster_idx\"):\n",
    "            pass\n",
    "        else:\n",
    "            sample_sizes = self.clustering_init_kwargs['sample_sizes']\n",
    "            clusters = []\n",
    "            last = 0\n",
    "            for n in sample_sizes:\n",
    "                clusters.append([x for x in range(last, n+last)])\n",
    "                last += n\n",
    "            self._init_cluster_idx = clusters\n",
    "        return self._init_cluster_idx\n",
    "\n",
    "    @property\n",
    "    def init_pdist(self):\n",
    "        if hasattr(self, \"_init_pdist\"):\n",
    "            pass\n",
    "        else:\n",
    "            self._init_pdist = self.pairwise_distances_from_means_variances(**self.clustering_init_kwargs)\n",
    "        return self._init_pdist\n",
    "\n",
    "    def cluster(self, n_clusters, save = True):\n",
    "        self.last_n_clusters = n_clusters\n",
    "        pdist = self.init_pdist.copy()\n",
    "        init_cluster_idx = self.init_cluster_idx.copy()\n",
    "        result = self.agglomerative_clustering(pairwise_distances = pdist, n_clusters = n_clusters, clusters = init_cluster_idx)\n",
    "        cluster_idx = result[0]\n",
    "        final_pdist = result[1]\n",
    "        cluster_df = {}\n",
    "        for cluster_id, cluster_index in enumerate(cluster_idx):\n",
    "            cluster_id_name = f\"cluster_{cluster_id}\"\n",
    "            cluster_df[cluster_id_name] = self.full_df.loc[cluster_index,:].copy()\n",
    "            cluster_df[cluster_id_name] = cluster_df[cluster_id_name].groupby(self.original_columns).agg(np.mean).reset_index()\n",
    "            cluster_df[cluster_id_name]['barcode'] = self.gen_barcode((cluster_df[cluster_id_name].loc[:, self.original_columns]))\n",
    "        if save:\n",
    "            self._latest_cluster_dfs = cluster_df\n",
    "        else:\n",
    "            self._latest_cluster_dfs = None\n",
    "        \n",
    "        return {\"cluster\": cluster_df, \"final_pdist\": final_pdist}\n",
    "\n",
    "    def gen_mu_contrast_from_cluster(self, n_clusters, use_latest_cluster_df = True):\n",
    "        if use_latest_cluster_df:\n",
    "            if hasattr(self, '_latest_cluster_dfs'):\n",
    "                if (self._latest_cluster_dfs != None) & (self.last_n_clusters == n_clusters):\n",
    "                    cluster_df_list = self._latest_cluster_dfs\n",
    "        try:\n",
    "            cluster_df_list\n",
    "        except:\n",
    "            cluster_result = self.cluster(n_clusters = n_clusters)\n",
    "            cluster_df_list = cluster_result['cluster']\n",
    "            \n",
    "        contrast_matrix = 0\n",
    "        for cluster_name, cluster_df in cluster_df_list.items():\n",
    "            if cluster_df.shape[0] > 1:\n",
    "                contrast = np.zeros((cluster_df.shape[0]-1, 2**len(self.original_columns)))\n",
    "                for i, row in enumerate(contrast):\n",
    "                    row[cluster_df.barcode[0]] = 1\n",
    "                    row[cluster_df.barcode[i+1]] = -1\n",
    "                    contrast[i] = row\n",
    "                if isinstance(contrast_matrix, np.ndarray):\n",
    "                    contrast_matrix = np.concatenate([contrast_matrix, contrast], axis = 0)\n",
    "                else:\n",
    "                    contrast_matrix = contrast\n",
    "            else:\n",
    "                pass\n",
    "        return contrast_matrix\n",
    "    \n",
    "    def gen_projection_matrix_mu(self, n_clusters):\n",
    "        C = self.gen_mu_contrast_from_cluster(n_clusters)\n",
    "        projection_matrix = C.T @ np.linalg.inv(C @ C.T) @ C\n",
    "        projection_matrix = np.identity(C.shape[1]) - projection_matrix\n",
    "        return projection_matrix\n",
    "    \n",
    "    def get_projected_mu_hat(self, n_clusters):\n",
    "        mu = self.init_mu_hat\n",
    "        proj_mu = self.gen_projection_matrix_mu(n_clusters = n_clusters) @ mu\n",
    "        return proj_mu\n",
    "    \n",
    "    def get_projected_mu_hat_var(self, n_clusters):\n",
    "        mu_var = self.init_mu_var\n",
    "        proj = self.gen_projection_matrix_mu(n_clusters = n_clusters)\n",
    "        proj_mu_var = proj @ mu_var @ proj.T\n",
    "        return proj_mu_var\n",
    "    \n",
    "    def get_projected_beta_hat(self, n_clusters):\n",
    "        proj_mu = self.get_projected_mu_hat(n_clusters = n_clusters)\n",
    "        proj_beta = self.L_inv @ proj_mu\n",
    "        return proj_beta\n",
    "    \n",
    "    def get_projected_beta_hat_var(self, n_clusters):\n",
    "        mu_var = self.get_projected_mu_hat_var(n_clusters)\n",
    "        return self.L_inv @ mu_var @ self.L_inv.T\n",
    "\n",
    "    \n",
    "    def ward_linkage(self, pairwise_distances, clusters, merge_indices):\n",
    "        clusters = clusters.copy()\n",
    "        i, j = merge_indices\n",
    "        cluster_i = clusters[i]\n",
    "        cluster_j = clusters[j]\n",
    "        n_i = len(cluster_i)\n",
    "        n_j = len(cluster_j)\n",
    "        n = pairwise_distances.shape[1]\n",
    "        new_distances = pairwise_distances.copy()\n",
    "        new_distances = np.delete(new_distances, merge_indices, axis = 0)\n",
    "        new_distances = np.delete(new_distances, merge_indices, axis = 1)\n",
    "        new_distances = np.append(new_distances, np.zeros((1, new_distances.shape[1])), axis = 0)\n",
    "        new_distances = np.append(new_distances,  np.zeros((new_distances.shape[0], 1)), axis = 1)\n",
    "        clusters.append(cluster_i + cluster_j)\n",
    "        clusters.remove(cluster_i)\n",
    "        clusters.remove(cluster_j)\n",
    "        col = 0\n",
    "        \n",
    "        for k in range(n):  # Subtract 2 because we've already added a row and column\n",
    "            if k != i and k != j:\n",
    "                n_k = len(clusters[col])\n",
    "                n_all = n_i + n_j + n_k\n",
    "                dist_ik = pairwise_distances[i, k]*(n_k + n_i)/n_all\n",
    "                dist_jk = pairwise_distances[j, k]*(n_j + n_k)/n_all\n",
    "                dist_ij = pairwise_distances[i, j]*(n_k)/n_all\n",
    "                new_dist = dist_ik + dist_jk - dist_ij\n",
    "                # Add other linkage methods here if needed\n",
    "                \n",
    "                new_distances[-1, col] = new_dist\n",
    "                new_distances[col, -1] = new_dist\n",
    "                col += 1\n",
    "\n",
    "        return new_distances, clusters\n",
    "    \n",
    "    def gen_reduced_clustering(self, n_clusters):\n",
    "        return self.agglomerative_clustering(pairwise_distances= self.init_pdist, n_clusters = n_clusters)\n",
    "\n",
    "    def agglomerative_clustering(self, pairwise_distances, n_clusters, clusters = None, estimator = None):\n",
    "        n = pairwise_distances.shape[0]\n",
    "        if clusters:\n",
    "            pass\n",
    "        else:\n",
    "            clusters = [[i] for i in range(n)]\n",
    "        \n",
    "        assert len(clusters) == n\n",
    "        \n",
    "        for k in range(n - n_clusters):\n",
    "            min_dist = np.inf\n",
    "            merge_indices = None\n",
    "            \n",
    "            for i in range(len(clusters)):\n",
    "                for j in range(i + 1, len(clusters)):\n",
    "                    dist = pairwise_distances[i, j]\n",
    "                    if dist < min_dist:\n",
    "                        min_dist = dist\n",
    "                        merge_indices = (i, j)\n",
    "            \n",
    "            if merge_indices:\n",
    "                pairwise_distances, clusters = self.ward_linkage(pairwise_distances, clusters, merge_indices)\n",
    "        \n",
    "        return clusters, pairwise_distances\n",
    "    \n",
    "    def pairwise_distances_from_means_variances(self, means, variances, sample_sizes):\n",
    "        num_clusters = len(means)\n",
    "        pairwise_distances = np.zeros((num_clusters, num_clusters))\n",
    "        \n",
    "        for i in range(num_clusters):\n",
    "            for j in range(i + 1, num_clusters):\n",
    "                n_i = sample_sizes[i]\n",
    "                n_j = sample_sizes[j]\n",
    "                mean_i = means[i]\n",
    "                mean_j = means[j]\n",
    "                var_i = variances[i]\n",
    "                var_j = variances[j]\n",
    "                \n",
    "                # Calculate the pairwise distance using Ward linkage formula\n",
    "                numerator = (n_i * n_j / (n_i + n_j)) * (mean_i - mean_j)**2\n",
    "                denominator = np.sqrt((n_i * var_i + n_j * var_j) / (n_i + n_j))\n",
    "                \n",
    "                pairwise_distances[i, j] = np.sqrt(numerator / denominator)\n",
    "                pairwise_distances[j, i] = pairwise_distances[i, j]\n",
    "        \n",
    "        return pairwise_distances\n"
   ]
  },
  {
   "cell_type": "code",
   "execution_count": 3,
   "metadata": {},
   "outputs": [],
   "source": [
    "from sklearn.base import BaseEstimator, clone\n",
    "from sklearn.cluster import AgglomerativeClustering\n",
    "from sklearn.metrics      import r2_score\n",
    "\n",
    "import numpy as np; import pandas as pd\n",
    "from typing import List, Union\n",
    "\n",
    "# itertools\n",
    "from itertools import combinations\n",
    "\n",
    "from utils import *\n",
    "\n",
    "class one_way_ANOVA(BaseEstimator):\n",
    "    def __init__(self):\n",
    "        pass\n",
    "    \n",
    "    def fit(self, df, response_var_name =None):\n",
    "        if response_var_name:\n",
    "            try:\n",
    "                df[response_var_name]\n",
    "                self.response_var_name = response_var_name\n",
    "            except:\n",
    "                self.response_var_name = df.columns.tolist()[-1]\n",
    "        else:\n",
    "            self.response_var_name = df.columns.tolist()[-1]\n",
    "        self.independet_var_name = df.columns[~df.columns.str.contains(self.response_var_name)].tolist()\n",
    "        self.segment_means = df.groupby(self.independet_var_name)[self.response_var_name].mean().reset_index()\n",
    "        self.segment_means.columns= self.segment_means.columns.tolist()[:-1] + ['y_hat']\n",
    "        output = df.merge(self.segment_means, how = 'left', on = self.independet_var_name)\n",
    "        y = output[self.response_var_name].to_numpy().reshape(-1)\n",
    "        y_pred = output['y_hat'].to_numpy().reshape(-1)\n",
    "        self._rsq = r2_score(y, y_pred)\n",
    "        self.sse  = np.square(y - y_pred).sum()\n",
    "        self.MSE_ = self.sse/(y.shape[0])\n",
    "        output['sq'] = (output.y_hat - output[self.response_var_name])**2\n",
    "        summary = output.groupby(self.independet_var_name).agg({\"y_hat\": np.mean, \"sq\": [lambda x: x.sum()/x.count(), 'count']}).reset_index()\n",
    "        summary.columns = self.independet_var_name + ['group_means','mse','count']\n",
    "        self._summary_table = summary\n",
    "        return self\n",
    "    \n",
    "\n",
    "    @property\n",
    "    def score(self):\n",
    "        if hasattr(self, '_rsq'):\n",
    "            return self._rsq\n",
    "        else:\n",
    "            raise AttributeError(\"fit the estimator first\")\n",
    "    \n",
    "    @property\n",
    "    def MSE(self):\n",
    "        if hasattr(self, \"MSE_\"):\n",
    "            return self.MSE_\n",
    "        else:\n",
    "            raise AttributeError(\"fit the estimator first\")"
   ]
  },
  {
   "cell_type": "markdown",
   "metadata": {},
   "source": [
    "# Fishers Importance Score"
   ]
  },
  {
   "cell_type": "code",
   "execution_count": 1,
   "metadata": {},
   "outputs": [],
   "source": [
    "from glob import glob\n",
    "import pandas as pd\n",
    "from dask import dataframe as dd\n",
    "import numpy as np\n",
    "import matplotlib.pyplot as plt\n",
    "import pickle"
   ]
  },
  {
   "cell_type": "code",
   "execution_count": 2,
   "metadata": {},
   "outputs": [],
   "source": [
    "with open(\"../importance_score/sample_generator_config_i_10.pickle\", 'rb') as pickle_file:\n",
    "    config = pickle.load(pickle_file)"
   ]
  },
  {
   "cell_type": "code",
   "execution_count": 76,
   "metadata": {},
   "outputs": [],
   "source": [
    "all_csv_files = glob('clustering_test_*.csv')"
   ]
  },
  {
   "cell_type": "code",
   "execution_count": 78,
   "metadata": {},
   "outputs": [],
   "source": [
    "all_csv_files = [ 'clustering_test_result_iter_0_cluster_16.csv',]"
   ]
  },
  {
   "cell_type": "code",
   "execution_count": 5,
   "metadata": {},
   "outputs": [],
   "source": [
    "names = [name.split(',') for name in config['_interactions_coefficients'].keys()]"
   ]
  },
  {
   "cell_type": "code",
   "execution_count": 6,
   "metadata": {},
   "outputs": [],
   "source": [
    "for name in names:\n",
    "    name[0] = name[0].split('_')[1]"
   ]
  },
  {
   "cell_type": "code",
   "execution_count": 7,
   "metadata": {},
   "outputs": [],
   "source": [
    "beta_names = []\n",
    "for name in names:\n",
    "    beta_names.append('*'.join([f\"beta{i}\" for i in name]))"
   ]
  },
  {
   "cell_type": "code",
   "execution_count": 8,
   "metadata": {},
   "outputs": [
    {
     "data": {
      "text/plain": [
       "['beta1*beta3',\n",
       " 'beta1*beta4',\n",
       " 'beta2*beta4',\n",
       " 'beta3*beta4',\n",
       " 'beta4*beta5',\n",
       " 'beta1*beta3*beta4',\n",
       " 'beta2*beta3*beta4',\n",
       " 'beta3*beta4*beta5',\n",
       " 'beta1*beta2*beta3*beta4',\n",
       " 'beta2*beta3*beta4*beta5']"
      ]
     },
     "execution_count": 8,
     "metadata": {},
     "output_type": "execute_result"
    }
   ],
   "source": [
    "beta_names"
   ]
  },
  {
   "cell_type": "code",
   "execution_count": 56,
   "metadata": {},
   "outputs": [],
   "source": [
    "ddf = dd.read_csv(filepath)\n",
    "columns = ddf.columns[ddf.columns.str.contains('\\*')].tolist() + ['score']\n",
    "ddf = ddf.loc[:, columns].sort_values(['score'], ascending = False).reset_index(drop = True)\n"
   ]
  },
  {
   "cell_type": "code",
   "execution_count": 61,
   "metadata": {},
   "outputs": [],
   "source": [
    "ranking = result.reset_index(); ranking.columns = ['coefficients', 'score']"
   ]
  },
  {
   "cell_type": "code",
   "execution_count": 63,
   "metadata": {},
   "outputs": [],
   "source": [
    "ranking['ranking'] = ranking.score.rank(ascending = False, method = 'min')\n",
    "true_variables = ranking.loc[ranking.coefficients.isin(beta_names),['coefficients','ranking']].reset_index(drop = True)\n",
    "false_variables = ranking.loc[~ranking.coefficients.isin(beta_names),['coefficients','ranking']].reset_index(drop = True)"
   ]
  },
  {
   "cell_type": "code",
   "execution_count": 64,
   "metadata": {},
   "outputs": [
    {
     "data": {
      "text/html": [
       "<div>\n",
       "<style scoped>\n",
       "    .dataframe tbody tr th:only-of-type {\n",
       "        vertical-align: middle;\n",
       "    }\n",
       "\n",
       "    .dataframe tbody tr th {\n",
       "        vertical-align: top;\n",
       "    }\n",
       "\n",
       "    .dataframe thead th {\n",
       "        text-align: right;\n",
       "    }\n",
       "</style>\n",
       "<table border=\"1\" class=\"dataframe\">\n",
       "  <thead>\n",
       "    <tr style=\"text-align: right;\">\n",
       "      <th></th>\n",
       "      <th>coefficients</th>\n",
       "      <th>ranking</th>\n",
       "    </tr>\n",
       "  </thead>\n",
       "  <tbody>\n",
       "    <tr>\n",
       "      <th>0</th>\n",
       "      <td>beta2*beta4</td>\n",
       "      <td>4.0</td>\n",
       "    </tr>\n",
       "    <tr>\n",
       "      <th>1</th>\n",
       "      <td>beta1*beta3</td>\n",
       "      <td>6.0</td>\n",
       "    </tr>\n",
       "    <tr>\n",
       "      <th>2</th>\n",
       "      <td>beta1*beta4</td>\n",
       "      <td>10.0</td>\n",
       "    </tr>\n",
       "    <tr>\n",
       "      <th>3</th>\n",
       "      <td>beta4*beta5</td>\n",
       "      <td>14.0</td>\n",
       "    </tr>\n",
       "    <tr>\n",
       "      <th>4</th>\n",
       "      <td>beta1*beta2*beta3*beta4</td>\n",
       "      <td>17.0</td>\n",
       "    </tr>\n",
       "    <tr>\n",
       "      <th>5</th>\n",
       "      <td>beta3*beta4*beta5</td>\n",
       "      <td>20.0</td>\n",
       "    </tr>\n",
       "    <tr>\n",
       "      <th>6</th>\n",
       "      <td>beta1*beta3*beta4</td>\n",
       "      <td>21.0</td>\n",
       "    </tr>\n",
       "    <tr>\n",
       "      <th>7</th>\n",
       "      <td>beta2*beta3*beta4*beta5</td>\n",
       "      <td>24.0</td>\n",
       "    </tr>\n",
       "    <tr>\n",
       "      <th>8</th>\n",
       "      <td>beta2*beta3*beta4</td>\n",
       "      <td>25.0</td>\n",
       "    </tr>\n",
       "    <tr>\n",
       "      <th>9</th>\n",
       "      <td>beta3*beta4</td>\n",
       "      <td>26.0</td>\n",
       "    </tr>\n",
       "  </tbody>\n",
       "</table>\n",
       "</div>"
      ],
      "text/plain": [
       "              coefficients  ranking\n",
       "0              beta2*beta4      4.0\n",
       "1              beta1*beta3      6.0\n",
       "2              beta1*beta4     10.0\n",
       "3              beta4*beta5     14.0\n",
       "4  beta1*beta2*beta3*beta4     17.0\n",
       "5        beta3*beta4*beta5     20.0\n",
       "6        beta1*beta3*beta4     21.0\n",
       "7  beta2*beta3*beta4*beta5     24.0\n",
       "8        beta2*beta3*beta4     25.0\n",
       "9              beta3*beta4     26.0"
      ]
     },
     "execution_count": 64,
     "metadata": {},
     "output_type": "execute_result"
    }
   ],
   "source": [
    "true_variables"
   ]
  },
  {
   "cell_type": "code",
   "execution_count": 66,
   "metadata": {},
   "outputs": [
    {
     "data": {
      "text/html": [
       "<div>\n",
       "<style scoped>\n",
       "    .dataframe tbody tr th:only-of-type {\n",
       "        vertical-align: middle;\n",
       "    }\n",
       "\n",
       "    .dataframe tbody tr th {\n",
       "        vertical-align: top;\n",
       "    }\n",
       "\n",
       "    .dataframe thead th {\n",
       "        text-align: right;\n",
       "    }\n",
       "</style>\n",
       "<table border=\"1\" class=\"dataframe\">\n",
       "  <thead>\n",
       "    <tr style=\"text-align: right;\">\n",
       "      <th></th>\n",
       "      <th>coefficients</th>\n",
       "      <th>ranking</th>\n",
       "    </tr>\n",
       "  </thead>\n",
       "  <tbody>\n",
       "    <tr>\n",
       "      <th>0</th>\n",
       "      <td>beta1*beta2*beta3*beta4*beta5</td>\n",
       "      <td>1.0</td>\n",
       "    </tr>\n",
       "    <tr>\n",
       "      <th>1</th>\n",
       "      <td>beta2*beta3</td>\n",
       "      <td>2.0</td>\n",
       "    </tr>\n",
       "    <tr>\n",
       "      <th>2</th>\n",
       "      <td>beta1*beta3*beta5</td>\n",
       "      <td>3.0</td>\n",
       "    </tr>\n",
       "    <tr>\n",
       "      <th>3</th>\n",
       "      <td>beta1*beta2*beta4*beta5</td>\n",
       "      <td>5.0</td>\n",
       "    </tr>\n",
       "    <tr>\n",
       "      <th>4</th>\n",
       "      <td>beta1*beta2*beta3</td>\n",
       "      <td>7.0</td>\n",
       "    </tr>\n",
       "    <tr>\n",
       "      <th>5</th>\n",
       "      <td>beta1*beta2</td>\n",
       "      <td>8.0</td>\n",
       "    </tr>\n",
       "    <tr>\n",
       "      <th>6</th>\n",
       "      <td>beta1*beta2*beta5</td>\n",
       "      <td>9.0</td>\n",
       "    </tr>\n",
       "    <tr>\n",
       "      <th>7</th>\n",
       "      <td>beta2*beta3*beta5</td>\n",
       "      <td>11.0</td>\n",
       "    </tr>\n",
       "    <tr>\n",
       "      <th>8</th>\n",
       "      <td>beta1*beta4*beta5</td>\n",
       "      <td>12.0</td>\n",
       "    </tr>\n",
       "    <tr>\n",
       "      <th>9</th>\n",
       "      <td>beta1*beta5</td>\n",
       "      <td>13.0</td>\n",
       "    </tr>\n",
       "    <tr>\n",
       "      <th>10</th>\n",
       "      <td>beta2*beta4*beta5</td>\n",
       "      <td>15.0</td>\n",
       "    </tr>\n",
       "    <tr>\n",
       "      <th>11</th>\n",
       "      <td>beta3*beta5</td>\n",
       "      <td>16.0</td>\n",
       "    </tr>\n",
       "    <tr>\n",
       "      <th>12</th>\n",
       "      <td>beta1*beta2*beta4</td>\n",
       "      <td>18.0</td>\n",
       "    </tr>\n",
       "    <tr>\n",
       "      <th>13</th>\n",
       "      <td>beta2*beta5</td>\n",
       "      <td>19.0</td>\n",
       "    </tr>\n",
       "    <tr>\n",
       "      <th>14</th>\n",
       "      <td>beta1*beta2*beta3*beta5</td>\n",
       "      <td>22.0</td>\n",
       "    </tr>\n",
       "    <tr>\n",
       "      <th>15</th>\n",
       "      <td>beta1*beta3*beta4*beta5</td>\n",
       "      <td>23.0</td>\n",
       "    </tr>\n",
       "  </tbody>\n",
       "</table>\n",
       "</div>"
      ],
      "text/plain": [
       "                     coefficients  ranking\n",
       "0   beta1*beta2*beta3*beta4*beta5      1.0\n",
       "1                     beta2*beta3      2.0\n",
       "2               beta1*beta3*beta5      3.0\n",
       "3         beta1*beta2*beta4*beta5      5.0\n",
       "4               beta1*beta2*beta3      7.0\n",
       "5                     beta1*beta2      8.0\n",
       "6               beta1*beta2*beta5      9.0\n",
       "7               beta2*beta3*beta5     11.0\n",
       "8               beta1*beta4*beta5     12.0\n",
       "9                     beta1*beta5     13.0\n",
       "10              beta2*beta4*beta5     15.0\n",
       "11                    beta3*beta5     16.0\n",
       "12              beta1*beta2*beta4     18.0\n",
       "13                    beta2*beta5     19.0\n",
       "14        beta1*beta2*beta3*beta5     22.0\n",
       "15        beta1*beta3*beta4*beta5     23.0"
      ]
     },
     "execution_count": 66,
     "metadata": {},
     "output_type": "execute_result"
    }
   ],
   "source": [
    "false_variables"
   ]
  },
  {
   "cell_type": "code",
   "execution_count": 53,
   "metadata": {},
   "outputs": [],
   "source": [
    "def return_plot_df(file_path_list, beta_names= beta_names):\n",
    "    from tqdm import tqdm\n",
    "    from sympy import Symbol\n",
    "    from sympy.printing import latex\n",
    "\n",
    "    for i, filepath in tqdm(enumerate(file_path_list), total = 10):\n",
    "        ddf = dd.read_csv(filepath)\n",
    "        columns = ddf.columns[ddf.columns.str.contains('\\*')].tolist() + ['score']\n",
    "        ddf = ddf.loc[:, columns].sort_values(['score'], ascending = False).reset_index(drop = True)\n",
    "        ddf = ddf.loc[ddf.loc[:, ddf.columns.str.contains('beta')].apply(lambda x: sum(x) <= 7, axis = 1, meta=(None, 'bool')), :]\n",
    "        df = ddf.reset_index(drop = True).compute()\n",
    "        result = df.apply(np.average, weights = df.score, axis = 0).sort_values(ascending = False) * df.score.sum()\n",
    "        result.pop('score')\n",
    "        ranking = pd.DataFrame(zip(result.index.tolist(), result), columns = ['coefficients', 'score'])\n",
    "        ranking['ranking'] = ranking.score.rank(ascending = False, method = 'min')\n",
    "        true_variables = ranking.loc[ranking.coefficients.isin(beta_names),['coefficients','ranking']].reset_index(drop = True)\n",
    "        false_variables = ranking.loc[~ranking.coefficients.isin(beta_names),['coefficients','ranking']].reset_index(drop = True)\n",
    "        if i:\n",
    "            true_variables.rename(columns = {'ranking': f\"ranking_iter_{i}\"}, inplace = True)\n",
    "            final_true = final_true.merge(true_variables, on = \"coefficients\")\n",
    "            false_variables.rename(columns = {'ranking': f\"ranking_iter_{i}\"}, inplace = True)\n",
    "            final_false = final_false.merge(false_variables, on = 'coefficients')\n",
    "        else:\n",
    "            final_true = true_variables\n",
    "            final_true.rename(columns = {'ranking': f\"ranking_iter_{i}\"}, inplace = True)\n",
    "            final_false = false_variables\n",
    "            final_false.rename(columns = {'ranking': f\"ranking_iter_{i}\"}, inplace = True)\n",
    "        del ddf\n",
    "        del df\n",
    "    final_true['mean_ranking'] = final_true.set_index('coefficients').mean(axis = 1).to_list()\n",
    "    final_false['mean_ranking'] = final_false.set_index('coefficients').mean(axis = 1).to_list()\n",
    "    final_true['true'] = True\n",
    "    final_false['true'] = False\n",
    "    plot_df = pd.concat([final_true, final_false])[['coefficients','mean_ranking', 'true']].sort_values(['true','mean_ranking'], ascending = [False, True]).reset_index(drop = True)\n",
    "    # plot_df.coefficients = plot_df.coefficients.apply(lambda x: f\"${latex(Symbol(x))}$\")\n",
    "    return plot_df\n"
   ]
  },
  {
   "cell_type": "code",
   "execution_count": 86,
   "metadata": {},
   "outputs": [
    {
     "name": "stderr",
     "output_type": "stream",
     "text": [
      " 10%|█         | 1/10 [00:05<00:46,  5.18s/it]\n"
     ]
    }
   ],
   "source": [
    "plot_df = return_plot_df(all_csv_files)"
   ]
  },
  {
   "cell_type": "code",
   "execution_count": 87,
   "metadata": {},
   "outputs": [],
   "source": [
    "# plot_df['mean_ranking'] = plot_df.mean_ranking -4"
   ]
  },
  {
   "cell_type": "code",
   "execution_count": 88,
   "metadata": {},
   "outputs": [],
   "source": [
    "plot_df.coefficients = plot_df.coefficients.str.replace('*beta',',').str.replace('beta','Beta_{') + '}'\n",
    "plot_df.coefficients = plot_df.coefficients.apply(lambda x: f\"${latex(Symbol(x))}$\")"
   ]
  },
  {
   "cell_type": "code",
   "execution_count": 89,
   "metadata": {},
   "outputs": [
    {
     "data": {
      "image/png": "[encoded data removed]",
      "text/plain": [
       "<Figure size 1000x700 with 1 Axes>"
      ]
     },
     "metadata": {},
     "output_type": "display_data"
    }
   ],
   "source": [
    "import seaborn as sns\n",
    "from sympy import Symbol\n",
    "from sympy.printing import latex\n",
    "\n",
    "fig, ax = plt.subplots(1, 1, figsize = (10,7))\n",
    "# plot_df = return_plot_df(all_csv_files)\n",
    "sns.barplot(plot_df, y = 'coefficients' ,x = 'mean_ranking', hue = 'true', orient = 'h', ax = ax)\n",
    "handles, labels = ax.get_legend_handles_labels()\n",
    "ax.legend(handles, ['Negative','Positive'])\n",
    "ax.set_title(f\"sample size = {500}, ${latex(Symbol('sigma^2'))}$ = {2}, final cluster size = 11\")\n",
    "ax.tick_params(axis='both', which='major', labelsize=7)\n",
    "ax.set_xlabel(\"mean of Fishers importance score ranking\")\n",
    "fig.suptitle(f\"Mean of Fishers importance score ranking \\n when there are 10 interaction coefficients in the true model\")\n",
    "fig.savefig('cluster_11_result.png')\n",
    "plt.show()"
   ]
  },
  {
   "cell_type": "code",
   "execution_count": null,
   "metadata": {},
   "outputs": [],
   "source": []
  },
  {
   "cell_type": "code",
   "execution_count": null,
   "metadata": {},
   "outputs": [],
   "source": []
  }
 ],
 "metadata": {
  "kernelspec": {
   "display_name": ".venv",
   "language": "python",
   "name": "python3"
  },
  "language_info": {
   "codemirror_mode": {
    "name": "ipython",
    "version": 3
   },
   "file_extension": ".py",
   "mimetype": "text/x-python",
   "name": "python",
   "nbconvert_exporter": "python",
   "pygments_lexer": "ipython3",
   "version": "3.10.6"
  },
  "orig_nbformat": 4
 },
 "nbformat": 4,
 "nbformat_minor": 2
}
