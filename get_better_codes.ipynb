{
 "cells": [
  {
   "cell_type": "code",
   "execution_count": 5,
   "metadata": {},
   "outputs": [],
   "source": [
    "from sympy.abc import _clash2\n",
    "from sympy import symbols"
   ]
  },
  {
   "cell_type": "code",
   "execution_count": 82,
   "metadata": {},
   "outputs": [
    {
     "data": {
      "text/plain": [
       "'beta_1'"
      ]
     },
     "execution_count": 82,
     "metadata": {},
     "output_type": "execute_result"
    }
   ],
   "source": [
    "str(symbols('beta_1'))"
   ]
  },
  {
   "cell_type": "code",
   "execution_count": null,
   "metadata": {},
   "outputs": [],
   "source": []
  },
  {
   "cell_type": "code",
   "execution_count": 238,
   "metadata": {},
   "outputs": [],
   "source": [
    "def symbol_prod(*args):\n",
    "    output = args[0]*args[1]\n",
    "    for i, arg in enumerate(args):\n",
    "        if i <= 1:\n",
    "            pass\n",
    "        else:\n",
    "            output *= arg\n",
    "    return output\n",
    "\n",
    "\n",
    "@dataclass\n",
    "class sample_generator:\n",
    "    var_num: int\n",
    "    sample_size: int\n",
    "    num_interactions: int = None\n",
    "    rng: np.random._generator.Generator = np.random.default_rng()\n",
    "    beta_range: Tuple[Union[float]] = (3, 8)\n",
    "    pi_range : Tuple[Union[float]] = (.2, .8)\n",
    "    error_scale : float = sqrt(5)\n",
    "\n",
    "\n",
    "    def gen_main_effects(self):\n",
    "        self._main_effects_variabls = [Symbol(f'x_{i+1}') for i in range(self.var_num)]\n",
    "        self._main_beta = [Symbol(f'beta_{i+1}') for i in range(self.var_num)]\n",
    "    \n",
    "    @property\n",
    "    def main_effect_coefficients(self):\n",
    "        if hasattr(self, '_main_beta'):\n",
    "            pass\n",
    "        else:\n",
    "            self.gen_main_effects()\n",
    "        return self._main_beta\n",
    "    \n",
    "    @property\n",
    "    def main_effect_variables(self):\n",
    "        if hasattr(self,'_main_effects_variables'):\n",
    "            pass\n",
    "        else:\n",
    "            self.gen_main_effects()\n",
    "        return self._main_effects_variabls\n",
    "    \n",
    "    def interaction_variables_generator(self):\n",
    "        i = 1\n",
    "        for k in range(2, self.var_num + 1):\n",
    "            for idx, var_name in zip(range(i, i+comb(self.var_num, k)), combinations(self.main_effect_variables, k)):\n",
    "                yield idx, symbol_prod(*var_name)\n",
    "            i += comb(self.var_num, k)\n",
    "\n",
    "    def gen_interactions(self):\n",
    "        main_variables = self.main_effect_variables\n",
    "        num_interactions_total = 2**self.var_num - 1 - self.var_num\n",
    "        # setting the number of interactions\n",
    "        if self.num_interactions:\n",
    "            if (self.num_interactions >= 0) and (self.num_interactions <= num_interactions_total):\n",
    "                pass\n",
    "            else:\n",
    "                self.num_interactions = int(self.rng.uniform(1, num_interactions_total))\n",
    "        else:\n",
    "            self.num_interactions = int(self.rng.uniform(1, num_interactions_total))\n",
    "\n",
    "        chosen_index = np.sort(self.rng.choice(range(1, num_interactions_total+1), self.num_interactions, replace = False))\n",
    "        chosen_interactions = [var_name for idx, var_name in self.interaction_variables_generator() if idx in chosen_index.tolist()]\n",
    "        chosen_index = [1 for _ in range(self.var_num + 1)] + \\\n",
    "        [1 if x in chosen_index.tolist() else 0 for x in range(1, num_interactions_total+ 1)]\n",
    "        self.interactions_coef = [x if self.rng.random() < .5 else -x for x \\\n",
    "                                    in self.rng.uniform(low=self.beta_range[0], high=self.beta_range[1], size=self.num_interactions)]\n",
    "        self.beta_effective = chosen_index\n",
    "        self._interactions = dict(zip(chosen_interactions, self.interactions_coef))\n",
    "    \n",
    "    @property\n",
    "    def interaction_effect_coefficients(self):\n",
    "        if hasattr(self, '_interactions'):\n",
    "            pass\n",
    "        else:\n",
    "            self.gen_interactions()\n",
    "        return self._interactions\n",
    "    \n",
    "    @property\n",
    "    def main_coefficients(self):\n",
    "        if hasattr(self, '_main_coefficients'):\n",
    "            pass\n",
    "        else:\n",
    "            self._main_coefficients = [x if self.rng.random() < .5 else -x for x in self.rng.uniform(low=self.beta_range[0], high=self.beta_range[1], size=self.var_num+1)]\n",
    "        return {Symbol(f'beta_{i}'): v for i,v in enumerate(self._main_coefficients)}\n",
    "    \n",
    "\n",
    "    ## generating X and y\n",
    "    @property\n",
    "    def pi(self):\n",
    "        if hasattr(self, '_pi'):\n",
    "            pass\n",
    "        else:\n",
    "            self._pi = self.rng.uniform(low = self.pi_range[0], high = self.pi_range[1], size = self.var_num)\n",
    "        return {f'pi_{i+1}': v for i,v in enumerate(self._pi)}\n",
    "    \n",
    "    def X_generator(self):\n",
    "        for _ in range(self.sample_size):\n",
    "            yield bernoulli.rvs(list(self.pi.values()), size = self.var_num)\n",
    "\n",
    "    def get_y(self, x):\n",
    "        main_effect_variables = self.main_effect_variables\n",
    "        main_effect_coefficients = self.main_coefficients\n",
    "        interaction_effect_coefficients = self.interaction_effect_coefficients\n",
    "\n",
    "\n",
    "\n",
    "\n",
    "    @property\n",
    "    def y(self):\n",
    "        if hasattr(self, '_y'):\n",
    "            pass\n",
    "        else:\n",
    "            beta = self.beta\n",
    "            interactions = self.interactions\n",
    "            y = []\n",
    "            \n",
    "            def find_interaction_effect(row, interactions = self.interactions):\n",
    "                output = 0\n",
    "                for key, val in interactions.items():\n",
    "                    output += row[key.split('*')].prod() * val\n",
    "                return output\n",
    "            \n",
    "            \n",
    "            for idx, row in self.X.iterrows():\n",
    "                main = beta['beta_0'] + sum([x*y for x,y in zip(list(beta.values())[1:], row)])\n",
    "                interaction_eff = find_interaction_effect(row)\n",
    "                error = norm.rvs(scale = self.error_scale)\n",
    "                y.append(main + interaction_eff + error)\n",
    "            \n",
    "            self._y = np.array(y).reshape(-1,1)\n",
    "        return self._y\n",
    "        "
   ]
  },
  {
   "cell_type": "code",
   "execution_count": 218,
   "metadata": {},
   "outputs": [],
   "source": [
    "x = sample_generator(3, 10)\n",
    "gen = x.X_generator()"
   ]
  },
  {
   "cell_type": "code",
   "execution_count": 219,
   "metadata": {},
   "outputs": [
    {
     "data": {
      "text/plain": [
       "{x_1*x_2: 5.452370076923513,\n",
       " x_2*x_3: -3.743476020443744,\n",
       " x_1*x_2*x_3: 5.334953848094771}"
      ]
     },
     "execution_count": 219,
     "metadata": {},
     "output_type": "execute_result"
    }
   ],
   "source": [
    "x.interaction_effect_coefficients"
   ]
  },
  {
   "cell_type": "code",
   "execution_count": 224,
   "metadata": {},
   "outputs": [],
   "source": [
    "series = pd.Series(next(gen), index = ['x_1','x_2','x_3'])"
   ]
  },
  {
   "cell_type": "code",
   "execution_count": 231,
   "metadata": {},
   "outputs": [],
   "source": [
    "key_1 = list(x.interaction_effect_coefficients.keys())[0]"
   ]
  },
  {
   "cell_type": "code",
   "execution_count": 236,
   "metadata": {},
   "outputs": [
    {
     "data": {
      "text/plain": [
       "0"
      ]
     },
     "execution_count": 236,
     "metadata": {},
     "output_type": "execute_result"
    }
   ],
   "source": [
    "series[str(key_1).split(\"*\")].prod()"
   ]
  },
  {
   "cell_type": "code",
   "execution_count": 237,
   "metadata": {},
   "outputs": [
    {
     "data": {
      "text/plain": [
       "[x_1, x_2, x_3]"
      ]
     },
     "execution_count": 237,
     "metadata": {},
     "output_type": "execute_result"
    }
   ],
   "source": [
    "x.main_effect_variables"
   ]
  },
  {
   "cell_type": "code",
   "execution_count": null,
   "metadata": {},
   "outputs": [],
   "source": []
  },
  {
   "cell_type": "code",
   "execution_count": 220,
   "metadata": {},
   "outputs": [
    {
     "data": {
      "text/plain": [
       "{beta_0: -3.8256511538698827,\n",
       " beta_1: 3.6753237315622074,\n",
       " beta_2: -5.579813024370846,\n",
       " beta_3: -5.473873890923027}"
      ]
     },
     "execution_count": 220,
     "metadata": {},
     "output_type": "execute_result"
    }
   ],
   "source": [
    "x.main_coefficients"
   ]
  },
  {
   "cell_type": "code",
   "execution_count": 8,
   "metadata": {},
   "outputs": [],
   "source": [
    "from dataclasses import dataclass\n",
    "from typing import List, Union, Tuple\n",
    "import numpy as np\n",
    "from scipy.stats import bernoulli, norm\n",
    "import pandas as pd\n",
    "from functools import partial\n",
    "from itertools import combinations, product\n",
    "from math import comb, sqrt\n",
    "from sympy import symbols, Symbol\n",
    "\n",
    "@dataclass\n",
    "class sample_generator:\n",
    "    p: int\n",
    "    sample_size: int\n",
    "    num_interactions: int = None\n",
    "    rng: np.random._generator.Generator = np.random.default_rng()\n",
    "    beta_range: Tuple[Union[int, float]] = (3, 8)\n",
    "    pi_range: Tuple[Union[float]] = (.2, .8)\n",
    "    error_scale: float = sqrt(5)\n",
    "        \n",
    "    @property\n",
    "    def interactions(self):\n",
    "        if hasattr(self, '_interactions'):\n",
    "            pass\n",
    "        else:\n",
    "            beta = [f'beta_{i}' for i in range(1, self.p+1)]\n",
    "            beta_interaction_coef = []\n",
    "            if self.num_interactions:\n",
    "                assert self.num_interactions <= 2**self.p -1 - self.p\n",
    "            else:\n",
    "                self.num_interactions = int(self.rng.uniform(0, 2**self.p - 1 - self.p))\n",
    "            r = self.num_interactions \n",
    "            size_total_int = 2**self.p -1 - self.p\n",
    "            chosen_index = np.sort(self.rng.choice(range(size_total_int), r, replace = False))\n",
    "            chosen_interactions = []\n",
    "            i = 0\n",
    "            for k in range(2, self.p + 1):\n",
    "                chosen_interactions += ['*'.join(beta_name) for idx, beta_name in \\\n",
    "                                        zip(range(i, i+comb(self.p, k)), combinations(beta, k)) \\\n",
    "                                        if idx in chosen_index.tolist() ]\n",
    "                i += comb(self.p, k)\n",
    "            chosen_index = [1 for _ in range(self.p + 1)] + \\\n",
    "            [1 if x in chosen_index.tolist() else 0 for x in range(size_total_int)]\n",
    "            self.interactions_coef = [x if self.rng.random() < .5 else -x for x \\\n",
    "                                      in self.rng.uniform(low=self.beta_range[0], high=self.beta_range[1], size=r)]\n",
    "            self.beta_effective = chosen_index\n",
    "            self._interactions = {x.replace('beta_', 'X'):val for x, val in zip(chosen_interactions, self.interactions_coef)}\n",
    "        return self._interactions\n",
    "        \n",
    "    @property\n",
    "    def beta(self):\n",
    "        if hasattr(self, '_beta'):\n",
    "            pass\n",
    "        else:\n",
    "            self._beta = [x if self.rng.random() < .5 else -x for x in self.rng.uniform(low=self.beta_range[0], high=self.beta_range[1], size=self.p+1)]\n",
    "        return {f'beta_{i}': v for i,v in enumerate(self._beta)}\n",
    "    \n",
    "    @property\n",
    "    def beta_names(self):\n",
    "        if hasattr(self, '_beta_names'):\n",
    "            pass\n",
    "        else:\n",
    "            beta_raw_names = [f'beta{i}' for i in range(1, self.p + 1)]\n",
    "            beta_names = [f'beta{i}' for i in range(self.p + 1)]\n",
    "            for r in range(2, self.p):\n",
    "                beta_names += ['*'.join(x) for x in combinations(beta_raw_names, r)]\n",
    "            beta_names += ['*'.join(beta_raw_names)]\n",
    "            self._beta_names = beta_names\n",
    "            del beta_names\n",
    "            del beta_raw_names\n",
    "        return self._beta_names\n",
    "    \n",
    "    @property\n",
    "    def pi(self):\n",
    "        if hasattr(self, '_pi'):\n",
    "            pass\n",
    "        else:\n",
    "            self._pi = self.rng.uniform(low = self.pi_range[0], high = self.pi_range[1], size = self.p)\n",
    "        return {f'pi_{i+1}': v for i,v in enumerate(self._pi)}\n",
    "    \n",
    "    @property\n",
    "    def X(self):\n",
    "        if hasattr(self, '_X'):\n",
    "            pass\n",
    "        else:\n",
    "            self._X = pd.DataFrame({f'X{i+1}':self.x(pi, self.sample_size) for i, pi in enumerate(self.pi.values())}).astype(np.ubyte)\n",
    "        return self._X\n",
    "        \n",
    "        \n",
    "    @property\n",
    "    def y(self):\n",
    "        if hasattr(self, '_y'):\n",
    "            pass\n",
    "        else:\n",
    "            beta = self.beta\n",
    "            interactions = self.interactions\n",
    "            y = []\n",
    "            \n",
    "            def find_interaction_effect(row, interactions = self.interactions):\n",
    "                output = 0\n",
    "                for key, val in interactions.items():\n",
    "                    output += row[key.split('*')].prod() * val\n",
    "                return output\n",
    "            \n",
    "            \n",
    "            for idx, row in self.X.iterrows():\n",
    "                main = beta['beta_0'] + sum([x*y for x,y in zip(list(beta.values())[1:], row)])\n",
    "                interaction_eff = find_interaction_effect(row)\n",
    "                error = norm.rvs(scale = self.error_scale)\n",
    "                y.append(main + interaction_eff + error)\n",
    "            \n",
    "            self._y = np.array(y).reshape(-1,1)\n",
    "        return self._y\n",
    "            \n",
    "            \n",
    "        \n",
    "# for idx, row in rng.X.iterrows():\n",
    "#     print(rng.beta['beta_0'] + sum([x*y for x,y in zip(list(rng.beta.values())[1:], row)]))        \n",
    "        \n",
    "        \n",
    "        \n",
    "    @property\n",
    "    def barcode(self):\n",
    "        if hasattr(self, '_barcode'):\n",
    "            pass\n",
    "        else:\n",
    "            self._barcode = self.gen_barcode(self.X)\n",
    "        return self._barcode\n",
    "    \n",
    "    @staticmethod\n",
    "    def gen_barcode(X):\n",
    "        pack_bits = np.packbits(np.array(X), axis = -1)\n",
    "        if pack_bits.shape[1]>1:\n",
    "            def gen_barcode(a, k, return_float = False):\n",
    "                m = len(a)-1\n",
    "                total_sum = 0\n",
    "                for i, x in enumerate(a):\n",
    "                    if i < m:\n",
    "                        if return_float:\n",
    "                            adjust = (x * 2**(m-i-1) * 2**k)\n",
    "                            total_sum += float(adjust)\n",
    "                        else:\n",
    "                            total_sum += (x * 2**(m-i-1) << k)\n",
    "                    else:\n",
    "                        total_sum += (x >> (8-k))\n",
    "                return total_sum\n",
    "            if X.shape[1] > 500:\n",
    "                barcode = partial(gen_barcode, k = X.shape[1]%8, return_float = True)\n",
    "            else:\n",
    "                barcode = partial(gen_barcode, k = X.shape[1]%8)\n",
    "        else:\n",
    "            def adjust_barcode(a, k):\n",
    "                a = a >> k\n",
    "                return a\n",
    "            barcode = partial(adjust_barcode, k = 8-X.shape[1])\n",
    "        output = np.apply_along_axis(barcode, 1, pack_bits)\n",
    "        return output\n",
    "\n",
    "    @staticmethod\n",
    "    def barcode_to_beta(barcode):\n",
    "        if isinstance(barcode, list):\n",
    "            output = [1] + barcode\n",
    "        else:\n",
    "            output = [1] + list(barcode)\n",
    "        N = len(output)\n",
    "        for i in range(2, N):\n",
    "            output += [np.prod(x) for x in combinations(barcode, i)]\n",
    "    #     output += [np.prod(output)]\n",
    "        return output\n",
    "    \n",
    "    @property\n",
    "    def L(self):\n",
    "        if hasattr(self, '_L'):\n",
    "            pass\n",
    "        else:\n",
    "            all_sets = list(set(product([0,1], repeat = self.p))); all_sets.sort()\n",
    "            self._L = np.array([self.barcode_to_beta(x) for x in all_sets]).T\n",
    "        return self._L"
   ]
  },
  {
   "cell_type": "code",
   "execution_count": null,
   "metadata": {},
   "outputs": [],
   "source": []
  }
 ],
 "metadata": {
  "kernelspec": {
   "display_name": ".venv",
   "language": "python",
   "name": "python3"
  },
  "language_info": {
   "codemirror_mode": {
    "name": "ipython",
    "version": 3
   },
   "file_extension": ".py",
   "mimetype": "text/x-python",
   "name": "python",
   "nbconvert_exporter": "python",
   "pygments_lexer": "ipython3",
   "version": "3.10.6"
  },
  "orig_nbformat": 4
 },
 "nbformat": 4,
 "nbformat_minor": 2
}
